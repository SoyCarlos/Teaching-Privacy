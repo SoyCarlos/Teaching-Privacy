{
 "cells": [
  {
   "cell_type": "markdown",
   "metadata": {},
   "source": [
    "# Geotagged Tweet Mapping\n",
    "#### Welcome to the Geotagged Tweet Mapping project for *Teaching Privacy*.\n",
    "\n",
    "**This project is due on 00/00/00.**\n",
    "\n",
    "This project will rely on several Python libraries, some of which you may have not used before. Thus, it is highly recommended you do this in pairs or groups. "
   ]
  },
  {
   "cell_type": "markdown",
   "metadata": {},
   "source": [
    "## Part 0a: Installing Tweepy\n",
    "\n",
    "The easiest way to install is to run the following in your terminal:\n",
    "\n",
    "*pip install tweepy*\n",
    "\n",
    "If this does not work check out the readme file on https://github.com/tweepy/tweepy for the most up to date installation instructions. "
   ]
  },
  {
   "cell_type": "markdown",
   "metadata": {},
   "source": [
    "## Part 0b: Installing geoplotlib\n",
    "\n",
    "We will be using the geoplotlib library to visualize tweet locations. Since geoplotlib requires two other libraries, numpy and pyglet, we will have to install those too using the following 4, separate, commands in your terminal:\n",
    "\n",
    "*pip install numpy <br>\n",
    "pip install pyglet <br>\n",
    "pip install geoplotlib <br>\n",
    "pip install pandas*\n",
    "\n",
    "Once done, run the cell below to import tweepy and all other necessary Python modules."
   ]
  },
  {
   "cell_type": "code",
   "execution_count": 1,
   "metadata": {
    "collapsed": true
   },
   "outputs": [],
   "source": [
    "import tweepy\n",
    "from tweepy import TweepError\n",
    "import json\n",
    "import numpy\n",
    "import pyglet\n",
    "import geoplotlib\n",
    "import pandas"
   ]
  },
  {
   "cell_type": "markdown",
   "metadata": {},
   "source": [
    "## Part 1: Create Twitter App\n",
    "\n",
    "\n",
    "1. Go to https://apps.twitter.com and click 'Sign In'. If you do not have a Twitter account or do not want to use your current Twitter account, you will have to create one.\n",
    "2. Click on 'Create New App'.\n",
    "3. Give your app a Name, Description and a Website. For the website you are allowed to put a placeholder such as https://www.google.com."
   ]
  },
  {
   "cell_type": "markdown",
   "metadata": {},
   "source": [
    "## Part 2: Obtain Twitter Tokens \n",
    "\n",
    "When using APIs that require tokens and keys for authentication, it is common practice to have your keys in a separate JSON file as to protect yourself and the application's users. Your file should not be posted on public repositories, and you should **never** share your keys. \n",
    "\n",
    "\n",
    "Create a new text file named **twitter_keys.json** with the following format:\n",
    "\n",
    "{ <br>\n",
    "   \"api_key\":\"\", <br>\n",
    "   \"api_secret\":  \"\", <br>\n",
    "   \"access_token\": \"\", <br>\n",
    "   \"access_token_secret\": \"\" <br>\n",
    "}\n",
    "<br>\n",
    "1. Go to your app you created in the previous step and head on to the 'Keys and Access Tokens' tab. \n",
    "2. Copy and paste the tokens and keys for the corresponding variables in your JSON file. <br>\n",
    "    a. You will have to click 'Create my access token' the first time you create your app. <br>\n",
    "    b. Make sure you copy and paste the tokens inside the quotation marks.\n",
    "3. Run the cell below to assign your keys to the keys variable."
   ]
  },
  {
   "cell_type": "code",
   "execution_count": 2,
   "metadata": {
    "collapsed": true
   },
   "outputs": [],
   "source": [
    "keys_file = 'twitter_keys.json'\n",
    "with open(keys_file) as file:\n",
    "    keys = json.load(file)"
   ]
  },
  {
   "cell_type": "markdown",
   "metadata": {},
   "source": [
    "## Part 3: Using the Twitter API with Tweepy\n",
    "\n",
    "Run the cell below to check if you have correctly set up the keys."
   ]
  },
  {
   "cell_type": "code",
   "execution_count": 3,
   "metadata": {},
   "outputs": [
    {
     "name": "stdout",
     "output_type": "stream",
     "text": [
      "You have correctly set up your API keys. Your username is: ImKarloss\n"
     ]
    }
   ],
   "source": [
    "try:\n",
    "    auth = tweepy.OAuthHandler(keys[\"api_key\"], keys[\"api_secret\"])\n",
    "    auth.set_access_token(keys[\"access_token\"], keys[\"access_token_secret\"])\n",
    "    api = tweepy.API(auth)\n",
    "    print(\"You have correctly set up your API keys. Your username is:\", api.auth.get_username())\n",
    "except TweepError as e:\n",
    "    print(\"Tweepy found an error. Revisit your twitter_keys.json file and make sure you have the correct keys.\")"
   ]
  },
  {
   "cell_type": "markdown",
   "metadata": {},
   "source": [
    "Now that you have been authenticated to use the Twitter API, it is time to get acquainted with the Twitter API.\n",
    "\n",
    "Using the <a href=\"http://tweepy.readthedocs.io/en/v3.5.0/\">documentation</a>, find Twitter's @jack 200 most-recent tweets in the cell below.\n",
    "\n",
    "**Hint: Look for a method to return the user timeline under 'API Reference'.**"
   ]
  },
  {
   "cell_type": "code",
   "execution_count": 4,
   "metadata": {
    "collapsed": true
   },
   "outputs": [],
   "source": [
    "tweets = api.user_timeline(screen_name=\"jack\", count=200)"
   ]
  },
  {
   "cell_type": "markdown",
   "metadata": {},
   "source": [
    "In the cell below, find what type of data type we found in the previous tweet."
   ]
  },
  {
   "cell_type": "code",
   "execution_count": 5,
   "metadata": {},
   "outputs": [
    {
     "data": {
      "text/plain": [
       "tweepy.models.ResultSet"
      ]
     },
     "execution_count": 5,
     "metadata": {},
     "output_type": "execute_result"
    }
   ],
   "source": [
    "type(tweets)"
   ]
  },
  {
   "cell_type": "markdown",
   "metadata": {},
   "source": [
    "The cell above should say we have a tweepy.models.ResultSet, which is a list of Status objects, or tweets. Confirm this in the cell below by indexing the first tweet and checking its type."
   ]
  },
  {
   "cell_type": "code",
   "execution_count": 6,
   "metadata": {
    "scrolled": true
   },
   "outputs": [
    {
     "data": {
      "text/plain": [
       "tweepy.models.Status"
      ]
     },
     "execution_count": 6,
     "metadata": {},
     "output_type": "execute_result"
    }
   ],
   "source": [
    "first_tweet = tweets[0]\n",
    "type(first_tweet)"
   ]
  },
  {
   "cell_type": "markdown",
   "metadata": {},
   "source": [
    "RESTful APIs often send data in JSON format, the same format as our keys file. Using the '_json' attribute, convert the first tweet into a dictionary in the cell below."
   ]
  },
  {
   "cell_type": "code",
   "execution_count": 7,
   "metadata": {},
   "outputs": [
    {
     "data": {
      "text/plain": [
       "{'contributors': None,\n",
       " 'coordinates': None,\n",
       " 'created_at': 'Sat Jun 30 21:42:30 +0000 2018',\n",
       " 'entities': {'hashtags': [],\n",
       "  'media': [{'display_url': 'pic.twitter.com/zgFsMvyIRr',\n",
       "    'expanded_url': 'https://twitter.com/BoringEnormous/status/1013091058698407936/video/1',\n",
       "    'id': 1013090797695258625,\n",
       "    'id_str': '1013090797695258625',\n",
       "    'indices': [43, 66],\n",
       "    'media_url': 'http://pbs.twimg.com/ext_tw_video_thumb/1013090797695258625/pu/img/gzkvb1OVqRLf3lGV.jpg',\n",
       "    'media_url_https': 'https://pbs.twimg.com/ext_tw_video_thumb/1013090797695258625/pu/img/gzkvb1OVqRLf3lGV.jpg',\n",
       "    'sizes': {'large': {'h': 368, 'resize': 'fit', 'w': 640},\n",
       "     'medium': {'h': 368, 'resize': 'fit', 'w': 640},\n",
       "     'small': {'h': 368, 'resize': 'fit', 'w': 640},\n",
       "     'thumb': {'h': 150, 'resize': 'crop', 'w': 150}},\n",
       "    'source_status_id': 1013091058698407936,\n",
       "    'source_status_id_str': '1013091058698407936',\n",
       "    'source_user_id': 20538843,\n",
       "    'source_user_id_str': '20538843',\n",
       "    'type': 'photo',\n",
       "    'url': 'https://t.co/zgFsMvyIRr'}],\n",
       "  'symbols': [],\n",
       "  'urls': [],\n",
       "  'user_mentions': [{'id': 20538843,\n",
       "    'id_str': '20538843',\n",
       "    'indices': [3, 18],\n",
       "    'name': 'Paul Bronks',\n",
       "    'screen_name': 'BoringEnormous'}]},\n",
       " 'extended_entities': {'media': [{'additional_media_info': {'monetizable': False,\n",
       "     'source_user': {'contributors_enabled': False,\n",
       "      'created_at': 'Tue Feb 10 19:45:06 +0000 2009',\n",
       "      'default_profile': False,\n",
       "      'default_profile_image': False,\n",
       "      'description': 'Not really Jewish, more Jew-ish. Misery guts.',\n",
       "      'entities': {'description': {'urls': []}},\n",
       "      'favourites_count': 21120,\n",
       "      'follow_request_sent': False,\n",
       "      'followers_count': 60218,\n",
       "      'following': False,\n",
       "      'friends_count': 3335,\n",
       "      'geo_enabled': True,\n",
       "      'has_extended_profile': True,\n",
       "      'id': 20538843,\n",
       "      'id_str': '20538843',\n",
       "      'is_translation_enabled': False,\n",
       "      'is_translator': False,\n",
       "      'lang': 'en',\n",
       "      'listed_count': 744,\n",
       "      'location': 'Sheffield, England',\n",
       "      'name': 'Paul Bronks',\n",
       "      'notifications': False,\n",
       "      'profile_background_color': '11AA11',\n",
       "      'profile_background_image_url': 'http://abs.twimg.com/images/themes/theme9/bg.gif',\n",
       "      'profile_background_image_url_https': 'https://abs.twimg.com/images/themes/theme9/bg.gif',\n",
       "      'profile_background_tile': False,\n",
       "      'profile_banner_url': 'https://pbs.twimg.com/profile_banners/20538843/1529101187',\n",
       "      'profile_image_url': 'http://pbs.twimg.com/profile_images/1013067154076381184/a17i2Q1B_normal.jpg',\n",
       "      'profile_image_url_https': 'https://pbs.twimg.com/profile_images/1013067154076381184/a17i2Q1B_normal.jpg',\n",
       "      'profile_link_color': '111111',\n",
       "      'profile_sidebar_border_color': '000000',\n",
       "      'profile_sidebar_fill_color': 'EFEFEF',\n",
       "      'profile_text_color': '333333',\n",
       "      'profile_use_background_image': False,\n",
       "      'protected': False,\n",
       "      'screen_name': 'BoringEnormous',\n",
       "      'statuses_count': 20045,\n",
       "      'time_zone': None,\n",
       "      'translator_type': 'none',\n",
       "      'url': None,\n",
       "      'utc_offset': None,\n",
       "      'verified': False}},\n",
       "    'display_url': 'pic.twitter.com/zgFsMvyIRr',\n",
       "    'expanded_url': 'https://twitter.com/BoringEnormous/status/1013091058698407936/video/1',\n",
       "    'id': 1013090797695258625,\n",
       "    'id_str': '1013090797695258625',\n",
       "    'indices': [43, 66],\n",
       "    'media_url': 'http://pbs.twimg.com/ext_tw_video_thumb/1013090797695258625/pu/img/gzkvb1OVqRLf3lGV.jpg',\n",
       "    'media_url_https': 'https://pbs.twimg.com/ext_tw_video_thumb/1013090797695258625/pu/img/gzkvb1OVqRLf3lGV.jpg',\n",
       "    'sizes': {'large': {'h': 368, 'resize': 'fit', 'w': 640},\n",
       "     'medium': {'h': 368, 'resize': 'fit', 'w': 640},\n",
       "     'small': {'h': 368, 'resize': 'fit', 'w': 640},\n",
       "     'thumb': {'h': 150, 'resize': 'crop', 'w': 150}},\n",
       "    'source_status_id': 1013091058698407936,\n",
       "    'source_status_id_str': '1013091058698407936',\n",
       "    'source_user_id': 20538843,\n",
       "    'source_user_id_str': '20538843',\n",
       "    'type': 'video',\n",
       "    'url': 'https://t.co/zgFsMvyIRr',\n",
       "    'video_info': {'aspect_ratio': [40, 23],\n",
       "     'duration_millis': 10042,\n",
       "     'variants': [{'content_type': 'application/x-mpegURL',\n",
       "       'url': 'https://video.twimg.com/ext_tw_video/1013090797695258625/pu/pl/xOazn6c79K9yuXGx.m3u8?tag=3'},\n",
       "      {'bitrate': 832000,\n",
       "       'content_type': 'video/mp4',\n",
       "       'url': 'https://video.twimg.com/ext_tw_video/1013090797695258625/pu/vid/626x360/v028srVmYnSgDT7Q.mp4?tag=3'},\n",
       "      {'bitrate': 256000,\n",
       "       'content_type': 'video/mp4',\n",
       "       'url': 'https://video.twimg.com/ext_tw_video/1013090797695258625/pu/vid/312x180/typ7_20wqXdB5fbs.mp4?tag=3'}]}}]},\n",
       " 'favorite_count': 0,\n",
       " 'favorited': False,\n",
       " 'geo': None,\n",
       " 'id': 1013175973909417984,\n",
       " 'id_str': '1013175973909417984',\n",
       " 'in_reply_to_screen_name': None,\n",
       " 'in_reply_to_status_id': None,\n",
       " 'in_reply_to_status_id_str': None,\n",
       " 'in_reply_to_user_id': None,\n",
       " 'in_reply_to_user_id_str': None,\n",
       " 'is_quote_status': False,\n",
       " 'lang': 'en',\n",
       " 'place': None,\n",
       " 'possibly_sensitive': False,\n",
       " 'retweet_count': 2267,\n",
       " 'retweeted': False,\n",
       " 'retweeted_status': {'contributors': None,\n",
       "  'coordinates': None,\n",
       "  'created_at': 'Sat Jun 30 16:05:05 +0000 2018',\n",
       "  'entities': {'hashtags': [],\n",
       "   'media': [{'display_url': 'pic.twitter.com/zgFsMvyIRr',\n",
       "     'expanded_url': 'https://twitter.com/BoringEnormous/status/1013091058698407936/video/1',\n",
       "     'id': 1013090797695258625,\n",
       "     'id_str': '1013090797695258625',\n",
       "     'indices': [23, 46],\n",
       "     'media_url': 'http://pbs.twimg.com/ext_tw_video_thumb/1013090797695258625/pu/img/gzkvb1OVqRLf3lGV.jpg',\n",
       "     'media_url_https': 'https://pbs.twimg.com/ext_tw_video_thumb/1013090797695258625/pu/img/gzkvb1OVqRLf3lGV.jpg',\n",
       "     'sizes': {'large': {'h': 368, 'resize': 'fit', 'w': 640},\n",
       "      'medium': {'h': 368, 'resize': 'fit', 'w': 640},\n",
       "      'small': {'h': 368, 'resize': 'fit', 'w': 640},\n",
       "      'thumb': {'h': 150, 'resize': 'crop', 'w': 150}},\n",
       "     'type': 'photo',\n",
       "     'url': 'https://t.co/zgFsMvyIRr'}],\n",
       "   'symbols': [],\n",
       "   'urls': [],\n",
       "   'user_mentions': []},\n",
       "  'extended_entities': {'media': [{'additional_media_info': {'monetizable': False},\n",
       "     'display_url': 'pic.twitter.com/zgFsMvyIRr',\n",
       "     'expanded_url': 'https://twitter.com/BoringEnormous/status/1013091058698407936/video/1',\n",
       "     'id': 1013090797695258625,\n",
       "     'id_str': '1013090797695258625',\n",
       "     'indices': [23, 46],\n",
       "     'media_url': 'http://pbs.twimg.com/ext_tw_video_thumb/1013090797695258625/pu/img/gzkvb1OVqRLf3lGV.jpg',\n",
       "     'media_url_https': 'https://pbs.twimg.com/ext_tw_video_thumb/1013090797695258625/pu/img/gzkvb1OVqRLf3lGV.jpg',\n",
       "     'sizes': {'large': {'h': 368, 'resize': 'fit', 'w': 640},\n",
       "      'medium': {'h': 368, 'resize': 'fit', 'w': 640},\n",
       "      'small': {'h': 368, 'resize': 'fit', 'w': 640},\n",
       "      'thumb': {'h': 150, 'resize': 'crop', 'w': 150}},\n",
       "     'type': 'video',\n",
       "     'url': 'https://t.co/zgFsMvyIRr',\n",
       "     'video_info': {'aspect_ratio': [40, 23],\n",
       "      'duration_millis': 10042,\n",
       "      'variants': [{'content_type': 'application/x-mpegURL',\n",
       "        'url': 'https://video.twimg.com/ext_tw_video/1013090797695258625/pu/pl/xOazn6c79K9yuXGx.m3u8?tag=3'},\n",
       "       {'bitrate': 832000,\n",
       "        'content_type': 'video/mp4',\n",
       "        'url': 'https://video.twimg.com/ext_tw_video/1013090797695258625/pu/vid/626x360/v028srVmYnSgDT7Q.mp4?tag=3'},\n",
       "       {'bitrate': 256000,\n",
       "        'content_type': 'video/mp4',\n",
       "        'url': 'https://video.twimg.com/ext_tw_video/1013090797695258625/pu/vid/312x180/typ7_20wqXdB5fbs.mp4?tag=3'}]}}]},\n",
       "  'favorite_count': 6480,\n",
       "  'favorited': False,\n",
       "  'geo': None,\n",
       "  'id': 1013091058698407936,\n",
       "  'id_str': '1013091058698407936',\n",
       "  'in_reply_to_screen_name': None,\n",
       "  'in_reply_to_status_id': None,\n",
       "  'in_reply_to_status_id_str': None,\n",
       "  'in_reply_to_user_id': None,\n",
       "  'in_reply_to_user_id_str': None,\n",
       "  'is_quote_status': False,\n",
       "  'lang': 'en',\n",
       "  'place': {'attributes': {},\n",
       "   'bounding_box': {'coordinates': [[[-1.505303, 53.451389],\n",
       "      [-1.4540017, 53.451389],\n",
       "      [-1.4540017, 53.478938],\n",
       "      [-1.505303, 53.478938]]],\n",
       "    'type': 'Polygon'},\n",
       "   'contained_within': [],\n",
       "   'country': 'United Kingdom',\n",
       "   'country_code': 'GB',\n",
       "   'full_name': 'Chapeltown, England',\n",
       "   'id': '232105a70cb80f00',\n",
       "   'name': 'Chapeltown',\n",
       "   'place_type': 'city',\n",
       "   'url': 'https://api.twitter.com/1.1/geo/id/232105a70cb80f00.json'},\n",
       "  'possibly_sensitive': False,\n",
       "  'retweet_count': 2267,\n",
       "  'retweeted': False,\n",
       "  'source': '<a href=\"http://twitter.com/download/android\" rel=\"nofollow\">Twitter for Android</a>',\n",
       "  'text': 'Troll Level: over 9000 https://t.co/zgFsMvyIRr',\n",
       "  'truncated': False,\n",
       "  'user': {'contributors_enabled': False,\n",
       "   'created_at': 'Tue Feb 10 19:45:06 +0000 2009',\n",
       "   'default_profile': False,\n",
       "   'default_profile_image': False,\n",
       "   'description': 'Not really Jewish, more Jew-ish. Misery guts.',\n",
       "   'entities': {'description': {'urls': []}},\n",
       "   'favourites_count': 21120,\n",
       "   'follow_request_sent': False,\n",
       "   'followers_count': 60218,\n",
       "   'following': False,\n",
       "   'friends_count': 3335,\n",
       "   'geo_enabled': True,\n",
       "   'has_extended_profile': True,\n",
       "   'id': 20538843,\n",
       "   'id_str': '20538843',\n",
       "   'is_translation_enabled': False,\n",
       "   'is_translator': False,\n",
       "   'lang': 'en',\n",
       "   'listed_count': 744,\n",
       "   'location': 'Sheffield, England',\n",
       "   'name': 'Paul Bronks',\n",
       "   'notifications': False,\n",
       "   'profile_background_color': '11AA11',\n",
       "   'profile_background_image_url': 'http://abs.twimg.com/images/themes/theme9/bg.gif',\n",
       "   'profile_background_image_url_https': 'https://abs.twimg.com/images/themes/theme9/bg.gif',\n",
       "   'profile_background_tile': False,\n",
       "   'profile_banner_url': 'https://pbs.twimg.com/profile_banners/20538843/1529101187',\n",
       "   'profile_image_url': 'http://pbs.twimg.com/profile_images/1013067154076381184/a17i2Q1B_normal.jpg',\n",
       "   'profile_image_url_https': 'https://pbs.twimg.com/profile_images/1013067154076381184/a17i2Q1B_normal.jpg',\n",
       "   'profile_link_color': '111111',\n",
       "   'profile_sidebar_border_color': '000000',\n",
       "   'profile_sidebar_fill_color': 'EFEFEF',\n",
       "   'profile_text_color': '333333',\n",
       "   'profile_use_background_image': False,\n",
       "   'protected': False,\n",
       "   'screen_name': 'BoringEnormous',\n",
       "   'statuses_count': 20045,\n",
       "   'time_zone': None,\n",
       "   'translator_type': 'none',\n",
       "   'url': None,\n",
       "   'utc_offset': None,\n",
       "   'verified': False}},\n",
       " 'source': '<a href=\"http://twitter.com/download/iphone\" rel=\"nofollow\">Twitter for iPhone</a>',\n",
       " 'text': 'RT @BoringEnormous: Troll Level: over 9000 https://t.co/zgFsMvyIRr',\n",
       " 'truncated': False,\n",
       " 'user': {'contributors_enabled': False,\n",
       "  'created_at': 'Tue Mar 21 20:50:14 +0000 2006',\n",
       "  'default_profile': False,\n",
       "  'default_profile_image': False,\n",
       "  'description': '‽',\n",
       "  'entities': {'description': {'urls': []}},\n",
       "  'favourites_count': 21537,\n",
       "  'follow_request_sent': False,\n",
       "  'followers_count': 4214795,\n",
       "  'following': False,\n",
       "  'friends_count': 3568,\n",
       "  'geo_enabled': True,\n",
       "  'has_extended_profile': False,\n",
       "  'id': 12,\n",
       "  'id_str': '12',\n",
       "  'is_translation_enabled': False,\n",
       "  'is_translator': False,\n",
       "  'lang': 'en',\n",
       "  'listed_count': 27517,\n",
       "  'location': '',\n",
       "  'name': 'jack',\n",
       "  'notifications': False,\n",
       "  'profile_background_color': 'EBEBEB',\n",
       "  'profile_background_image_url': 'http://abs.twimg.com/images/themes/theme7/bg.gif',\n",
       "  'profile_background_image_url_https': 'https://abs.twimg.com/images/themes/theme7/bg.gif',\n",
       "  'profile_background_tile': False,\n",
       "  'profile_banner_url': 'https://pbs.twimg.com/profile_banners/12/1483046077',\n",
       "  'profile_image_url': 'http://pbs.twimg.com/profile_images/839863609345794048/mkpdB9Tf_normal.jpg',\n",
       "  'profile_image_url_https': 'https://pbs.twimg.com/profile_images/839863609345794048/mkpdB9Tf_normal.jpg',\n",
       "  'profile_link_color': '990000',\n",
       "  'profile_sidebar_border_color': 'DFDFDF',\n",
       "  'profile_sidebar_fill_color': 'F3F3F3',\n",
       "  'profile_text_color': '333333',\n",
       "  'profile_use_background_image': True,\n",
       "  'protected': False,\n",
       "  'screen_name': 'jack',\n",
       "  'statuses_count': 23936,\n",
       "  'time_zone': None,\n",
       "  'translator_type': 'regular',\n",
       "  'url': None,\n",
       "  'utc_offset': None,\n",
       "  'verified': True}}"
      ]
     },
     "execution_count": 7,
     "metadata": {},
     "output_type": "execute_result"
    }
   ],
   "source": [
    "first_tweet_dict = first_tweet._json\n",
    "first_tweet_dict"
   ]
  },
  {
   "cell_type": "markdown",
   "metadata": {},
   "source": [
    "Looking at the cell above, you should see that we are returned a nested dictionary. This represents the common JSON format, however, this in itself is not a JSON file. \n",
    "\n",
    "Explore the result and find where the tweet location is and under which keys. Use the cell below to print the first tweet's location.\n",
    "\n",
    "**Hint: Not all tweets have locations embedded. Find the first tweet's 'place' tag.**"
   ]
  },
  {
   "cell_type": "code",
   "execution_count": 8,
   "metadata": {},
   "outputs": [
    {
     "name": "stdout",
     "output_type": "stream",
     "text": [
      "This tweet was tweeted from: None\n"
     ]
    }
   ],
   "source": [
    "first_tweet_location = first_tweet_dict['place']\n",
    "print('This tweet was tweeted from:', first_tweet_location)"
   ]
  },
  {
   "cell_type": "markdown",
   "metadata": {},
   "source": [
    "## Part 4: Tweet Locations\n",
    "\n",
    "In the cell below, find the locations for all tweets we obtained. \n",
    "\n",
    "Hint: Not all tweets are geo-tagged so figure out how to only append tweet locations to the list instead of those with no location."
   ]
  },
  {
   "cell_type": "code",
   "execution_count": 9,
   "metadata": {
    "scrolled": true
   },
   "outputs": [
    {
     "data": {
      "text/plain": [
       "['San Francisco, CA',\n",
       " 'San Francisco, CA',\n",
       " 'San Francisco, CA',\n",
       " 'San Francisco, CA',\n",
       " 'San Francisco, CA',\n",
       " 'San Francisco, CA',\n",
       " 'San Francisco, CA',\n",
       " 'San Francisco, CA',\n",
       " 'San Francisco, CA',\n",
       " 'San Francisco, CA',\n",
       " 'San Francisco, CA',\n",
       " 'San Francisco, CA',\n",
       " 'San Francisco, CA',\n",
       " 'San Francisco, CA',\n",
       " 'San Francisco, CA',\n",
       " 'San Francisco, CA',\n",
       " 'San Francisco, CA',\n",
       " 'San Francisco, CA',\n",
       " 'San Francisco, CA',\n",
       " 'San Francisco, CA',\n",
       " 'San Francisco, CA',\n",
       " 'San Francisco, CA',\n",
       " 'San Francisco, CA',\n",
       " 'San Francisco, CA',\n",
       " 'San Francisco, CA',\n",
       " 'San Francisco, CA',\n",
       " 'San Francisco, CA',\n",
       " 'South San Francisco, CA',\n",
       " 'Cuba',\n",
       " 'Cuba',\n",
       " 'Haiti',\n",
       " 'Cuba',\n",
       " 'Cuba']"
      ]
     },
     "execution_count": 9,
     "metadata": {},
     "output_type": "execute_result"
    }
   ],
   "source": [
    "locations = []\n",
    "tweets_with_location = []\n",
    "for tweet in tweets:\n",
    "    current_tweet = tweet._json['place']\n",
    "    if current_tweet is not None:\n",
    "        tweets_with_location.append(current_tweet)\n",
    "        locations.append(current_tweet['full_name'])\n",
    "locations"
   ]
  },
  {
   "cell_type": "markdown",
   "metadata": {
    "collapsed": true
   },
   "source": [
    "## Part 5: Tweet Location Visualization\n",
    "\n",
    "Now that we have stored the location of the user's tweets, it is time to create a visualization.\n",
    "\n",
    "In the cell below, make an array with all the coordinates for each location. Use the 4th pair from each bounding box."
   ]
  },
  {
   "cell_type": "code",
   "execution_count": 10,
   "metadata": {
    "collapsed": true
   },
   "outputs": [],
   "source": [
    "coords = []\n",
    "for tweet in tweets_with_location:\n",
    "    coords.append(tweet['bounding_box']['coordinates'][0][3])"
   ]
  },
  {
   "cell_type": "markdown",
   "metadata": {},
   "source": [
    "Now that you have both a list of locations and coordinate pairs, create a table with pandas. \n",
    "\n",
    "You can create a DataFrame from an array of arrays with the following line:\n",
    "pandas.DataFrame(array)\n",
    "\n",
    "After doing so, make sure to rename the columns to 'lon' and 'lat' as appropriate, and add another column with the locations."
   ]
  },
  {
   "cell_type": "code",
   "execution_count": 11,
   "metadata": {
    "collapsed": true
   },
   "outputs": [],
   "source": [
    "locs = pandas.DataFrame(coords)\n",
    "locs['name'] = locations\n",
    "locs.rename(columns={0:'lon', 1:'lat'}, inplace=True)"
   ]
  },
  {
   "cell_type": "markdown",
   "metadata": {},
   "source": [
    "Now that you have all the information contained in a DataFrame, it is time to convert it into the correct data type. To map out the tweet locations, we will want to create a dot density map. \n",
    "\n",
    "geoplotlib has a .dot method to create a dot density map. The only required argument is a geoplotlib DataAccessObject. You can use the utils.DataAccessObject in geoplotlib to convert the DataFrame object.\n",
    "\n",
    "**Hint: After using the .dot method to create a dot density map, you must call geoplotlib.show() to open up a window with the map.**"
   ]
  },
  {
   "cell_type": "code",
   "execution_count": 12,
   "metadata": {
    "collapsed": true
   },
   "outputs": [],
   "source": [
    "geo_locs = geoplotlib.utils.DataAccessObject(locs)\n",
    "geoplotlib.dot(geo_locs)\n",
    "#geoplotlib.show()"
   ]
  },
  {
   "cell_type": "markdown",
   "metadata": {},
   "source": [
    "## Part 6: Conclusion\n",
    "\n",
    "This assignment will have different results depending on the Twitter user you inspect. Some users will have no tweets with embedded locations, and others may only tweet from a single city.\n",
    "\n",
    "Examining locations in tweets can give an estimate of where a user lives or a user's up-to-date whereabouts."
   ]
  },
  {
   "cell_type": "code",
   "execution_count": null,
   "metadata": {
    "collapsed": true
   },
   "outputs": [],
   "source": []
  }
 ],
 "metadata": {
  "kernelspec": {
   "display_name": "Python 3",
   "language": "python",
   "name": "python3"
  },
  "language_info": {
   "codemirror_mode": {
    "name": "ipython",
    "version": 3
   },
   "file_extension": ".py",
   "mimetype": "text/x-python",
   "name": "python",
   "nbconvert_exporter": "python",
   "pygments_lexer": "ipython3",
   "version": "3.6.1"
  }
 },
 "nbformat": 4,
 "nbformat_minor": 2
}
