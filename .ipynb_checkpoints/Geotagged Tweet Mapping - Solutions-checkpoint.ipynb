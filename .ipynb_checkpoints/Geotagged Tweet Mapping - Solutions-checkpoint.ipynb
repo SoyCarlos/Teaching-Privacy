{
 "cells": [
  {
   "cell_type": "markdown",
   "metadata": {},
   "source": [
    "# Geotagged Tweet Mapping\n",
    "#### Welcome to the Geotagged Tweet Mapping project for *Teaching Privacy*.\n",
    "\n",
    "**This project is due on 00/00/00.**\n",
    "\n",
    "This project will have you use Tweepy, a Python library to access the Twitter API.\n"
   ]
  },
  {
   "cell_type": "markdown",
   "metadata": {},
   "source": [
    "## Part 0a: Installing Tweepy\n",
    "\n",
    "The easiest way to install is to run the following in your terminal:\n",
    "\n",
    "*pip install tweepy*\n",
    "\n",
    "If this does not work check out the readme file on https://github.com/tweepy/tweepy for the most up to date installation instructions. "
   ]
  },
  {
   "cell_type": "markdown",
   "metadata": {},
   "source": [
    "## Part 0b: Installing geoplotlib\n",
    "\n",
    "We will be using the geoplotlib library to visualize tweet locations. Since geoplotlib requires two other libraries, numpy and pyglet, we will have to install those too using the following 3, separate, commands in your terminal:\n",
    "\n",
    "*pip install numpy <br>\n",
    "pip install pyglet <br>\n",
    "pip install geoplotlib*\n",
    "\n",
    "Once done, run the cell below to import tweepy and all other necessary Python modules."
   ]
  },
  {
   "cell_type": "code",
   "execution_count": 10,
   "metadata": {
    "collapsed": true
   },
   "outputs": [],
   "source": [
    "import tweepy\n",
    "from tweepy import TweepError\n",
    "import json\n",
    "import numpy\n",
    "import pyglet\n",
    "import geoplotlib\n",
    "import pandas"
   ]
  },
  {
   "cell_type": "markdown",
   "metadata": {},
   "source": [
    "## Part 1: Create Twitter App\n",
    "\n",
    "\n",
    "1. Go to https://apps.twitter.com and click 'Sign In'. If you do not have a Twitter account or do not want to use your current Twitter account, you will have to create one.\n",
    "2. Click on 'Create New App'.\n",
    "3. Give your app a Name, Description and a Website. For the website you are allowed to put a placeholder such as https://www.google.com."
   ]
  },
  {
   "cell_type": "markdown",
   "metadata": {},
   "source": [
    "## Part 2: Obtain Twitter Tokens \n",
    "\n",
    "When using APIs that require tokens and keys for authentication, it is common practice to have your keys in a separate JSON file as to protect yourself and the application's users. Your file should not be posted on public repositories, and you should **never** share your keys. \n",
    "\n",
    "\n",
    "Create a new text file named **keys.json** with the following format:\n",
    "\n",
    "{ <br>\n",
    "   \"api_key\":\"\", <br>\n",
    "   \"api_secret\":  \"\", <br>\n",
    "   \"access_token\": \"\", <br>\n",
    "   \"access_token_secret\": \"\" <br>\n",
    "}\n",
    "<br>\n",
    "1. Go to your app you created in the previous step and head on to the 'Keys and Access Tokens' tab. \n",
    "2. Copy and paste the tokens and keys for the corresponding variables in your JSON file. <br>\n",
    "    a. You will have to click 'Create my access token' the first time you create your app. <br>\n",
    "    b. Make sure you copy and paste the tokens inside the quotation marks.\n",
    "3. Run the cell below to assign your keys to the keys variable."
   ]
  },
  {
   "cell_type": "code",
   "execution_count": 2,
   "metadata": {
    "collapsed": true
   },
   "outputs": [],
   "source": [
    "keys_file = 'twitter_keys.json'\n",
    "with open(keys_file) as file:\n",
    "    keys = json.load(file)"
   ]
  },
  {
   "cell_type": "markdown",
   "metadata": {},
   "source": [
    "## Part 3: Using the Twitter API with Tweepy\n",
    "\n",
    "Run the cell below to check if you have correctly set up the keys."
   ]
  },
  {
   "cell_type": "code",
   "execution_count": 3,
   "metadata": {},
   "outputs": [
    {
     "name": "stdout",
     "output_type": "stream",
     "text": [
      "You have correctly set up your API keys. Your username is: ImKarloss\n"
     ]
    }
   ],
   "source": [
    "try:\n",
    "    auth = tweepy.OAuthHandler(keys[\"api_key\"], keys[\"api_secret\"])\n",
    "    auth.set_access_token(keys[\"access_token\"], keys[\"access_token_secret\"])\n",
    "    api = tweepy.API(auth)\n",
    "    print(\"You have correctly set up your API keys. Your username is:\", api.auth.get_username())\n",
    "except TweepError as e:\n",
    "    print(\"Tweepy found an error. Revisit your keys.json file and make sure you have the correct keys.\")"
   ]
  },
  {
   "cell_type": "markdown",
   "metadata": {},
   "source": [
    "Now that you have been authenticated to use the Twitter API, it is time to get acquainted with the Twitter API.\n",
    "\n",
    "Using the documentation, find Twitter's @jack 200 most-recent tweets in the cell below."
   ]
  },
  {
   "cell_type": "code",
   "execution_count": 4,
   "metadata": {
    "collapsed": true
   },
   "outputs": [],
   "source": [
    "tweets = api.user_timeline(screen_name=\"jack\", count=200)"
   ]
  },
  {
   "cell_type": "markdown",
   "metadata": {},
   "source": [
    "In the cell below, find what type of data type we found in the previous tweet."
   ]
  },
  {
   "cell_type": "code",
   "execution_count": 5,
   "metadata": {},
   "outputs": [
    {
     "data": {
      "text/plain": [
       "tweepy.models.ResultSet"
      ]
     },
     "execution_count": 5,
     "metadata": {},
     "output_type": "execute_result"
    }
   ],
   "source": [
    "type(tweets)"
   ]
  },
  {
   "cell_type": "markdown",
   "metadata": {},
   "source": [
    "The cell above should say we have a tweepy.models.ResultSet, which is a list of Status objects, or tweets. Confirm this in the cell below by indexing the first tweet and checking its type."
   ]
  },
  {
   "cell_type": "code",
   "execution_count": 6,
   "metadata": {
    "scrolled": true
   },
   "outputs": [
    {
     "data": {
      "text/plain": [
       "tweepy.models.Status"
      ]
     },
     "execution_count": 6,
     "metadata": {},
     "output_type": "execute_result"
    }
   ],
   "source": [
    "first_tweet = tweets[0]\n",
    "type(first_tweet)"
   ]
  },
  {
   "cell_type": "markdown",
   "metadata": {},
   "source": [
    "RESTful APIs often send data in JSON format, the same format as our keys file. Using the '_json' attribute, convert the first tweet into a dictionary in the cell below."
   ]
  },
  {
   "cell_type": "code",
   "execution_count": 9,
   "metadata": {},
   "outputs": [
    {
     "data": {
      "text/plain": [
       "{'contributors': None,\n",
       " 'coordinates': None,\n",
       " 'created_at': 'Fri Jun 15 01:16:42 +0000 2018',\n",
       " 'entities': {'hashtags': [],\n",
       "  'symbols': [],\n",
       "  'urls': [],\n",
       "  'user_mentions': [{'id': 6735,\n",
       "    'id_str': '6735',\n",
       "    'indices': [0, 4],\n",
       "    'name': 'Robert Andersen',\n",
       "    'screen_name': 'rsa'}]},\n",
       " 'favorite_count': 3,\n",
       " 'favorited': False,\n",
       " 'geo': None,\n",
       " 'id': 1007431671627407360,\n",
       " 'id_str': '1007431671627407360',\n",
       " 'in_reply_to_screen_name': 'rsa',\n",
       " 'in_reply_to_status_id': 1007431553297895430,\n",
       " 'in_reply_to_status_id_str': '1007431553297895430',\n",
       " 'in_reply_to_user_id': 6735,\n",
       " 'in_reply_to_user_id_str': '6735',\n",
       " 'is_quote_status': False,\n",
       " 'lang': 'en',\n",
       " 'place': None,\n",
       " 'retweet_count': 0,\n",
       " 'retweeted': False,\n",
       " 'source': '<a href=\"http://twitter.com/download/iphone\" rel=\"nofollow\">Twitter for iPhone</a>',\n",
       " 'text': '@rsa “almost”',\n",
       " 'truncated': False,\n",
       " 'user': {'contributors_enabled': False,\n",
       "  'created_at': 'Tue Mar 21 20:50:14 +0000 2006',\n",
       "  'default_profile': False,\n",
       "  'default_profile_image': False,\n",
       "  'description': '',\n",
       "  'entities': {'description': {'urls': []}},\n",
       "  'favourites_count': 21371,\n",
       "  'follow_request_sent': False,\n",
       "  'followers_count': 4211269,\n",
       "  'following': False,\n",
       "  'friends_count': 3519,\n",
       "  'geo_enabled': True,\n",
       "  'has_extended_profile': False,\n",
       "  'id': 12,\n",
       "  'id_str': '12',\n",
       "  'is_translation_enabled': False,\n",
       "  'is_translator': False,\n",
       "  'lang': 'en',\n",
       "  'listed_count': 27488,\n",
       "  'location': '',\n",
       "  'name': 'jack',\n",
       "  'notifications': False,\n",
       "  'profile_background_color': 'EBEBEB',\n",
       "  'profile_background_image_url': 'http://abs.twimg.com/images/themes/theme7/bg.gif',\n",
       "  'profile_background_image_url_https': 'https://abs.twimg.com/images/themes/theme7/bg.gif',\n",
       "  'profile_background_tile': False,\n",
       "  'profile_banner_url': 'https://pbs.twimg.com/profile_banners/12/1483046077',\n",
       "  'profile_image_url': 'http://pbs.twimg.com/profile_images/839863609345794048/mkpdB9Tf_normal.jpg',\n",
       "  'profile_image_url_https': 'https://pbs.twimg.com/profile_images/839863609345794048/mkpdB9Tf_normal.jpg',\n",
       "  'profile_link_color': '990000',\n",
       "  'profile_sidebar_border_color': 'DFDFDF',\n",
       "  'profile_sidebar_fill_color': 'F3F3F3',\n",
       "  'profile_text_color': '333333',\n",
       "  'profile_use_background_image': True,\n",
       "  'protected': False,\n",
       "  'screen_name': 'jack',\n",
       "  'statuses_count': 23806,\n",
       "  'time_zone': None,\n",
       "  'translator_type': 'regular',\n",
       "  'url': None,\n",
       "  'utc_offset': None,\n",
       "  'verified': True}}"
      ]
     },
     "execution_count": 9,
     "metadata": {},
     "output_type": "execute_result"
    }
   ],
   "source": [
    "first_tweet_dict = first_tweet._json\n",
    "first_tweet_dict"
   ]
  },
  {
   "cell_type": "markdown",
   "metadata": {},
   "source": [
    "Looking at the cell above, you should see that we are returned a nested dictionary. This represents the common JSON format, however, this in itself is not a JSON file. \n",
    "\n",
    "Explore the result and find where the tweet location is and under which keys. Use the cell below to print the first tweet's location."
   ]
  },
  {
   "cell_type": "code",
   "execution_count": 8,
   "metadata": {},
   "outputs": [
    {
     "ename": "TypeError",
     "evalue": "'NoneType' object is not subscriptable",
     "output_type": "error",
     "traceback": [
      "\u001b[0;31m---------------------------------------------------------------------------\u001b[0m",
      "\u001b[0;31mTypeError\u001b[0m                                 Traceback (most recent call last)",
      "\u001b[0;32m<ipython-input-8-2d0371ab0de0>\u001b[0m in \u001b[0;36m<module>\u001b[0;34m()\u001b[0m\n\u001b[0;32m----> 1\u001b[0;31m \u001b[0mfirst_tweet_location\u001b[0m \u001b[0;34m=\u001b[0m \u001b[0mfirst_tweet_dict\u001b[0m\u001b[0;34m[\u001b[0m\u001b[0;34m'place'\u001b[0m\u001b[0;34m]\u001b[0m\u001b[0;34m[\u001b[0m\u001b[0;34m'full_name'\u001b[0m\u001b[0;34m]\u001b[0m\u001b[0;34m\u001b[0m\u001b[0m\n\u001b[0m\u001b[1;32m      2\u001b[0m \u001b[0mprint\u001b[0m\u001b[0;34m(\u001b[0m\u001b[0;34m'This tweet was tweeted from:'\u001b[0m\u001b[0;34m,\u001b[0m \u001b[0mfirst_tweet_location\u001b[0m\u001b[0;34m)\u001b[0m\u001b[0;34m\u001b[0m\u001b[0m\n",
      "\u001b[0;31mTypeError\u001b[0m: 'NoneType' object is not subscriptable"
     ]
    }
   ],
   "source": [
    "first_tweet_location = first_tweet_dict['place']['full_name']\n",
    "print('This tweet was tweeted from:', first_tweet_location)"
   ]
  },
  {
   "cell_type": "markdown",
   "metadata": {},
   "source": [
    "## Part 4: Tweet Locations\n",
    "\n",
    "In the cell below, find the locations for all tweets we obtained. \n",
    "\n",
    "Hint: Not all tweets are geo-tagged so figure out how to only append tweet locations to the list instead of those with no location."
   ]
  },
  {
   "cell_type": "code",
   "execution_count": 13,
   "metadata": {},
   "outputs": [
    {
     "data": {
      "text/plain": [
       "['Malibu, CA',\n",
       " 'Camarillo, CA',\n",
       " 'California, USA',\n",
       " 'California, USA',\n",
       " 'San Francisco, CA',\n",
       " 'San Francisco, CA',\n",
       " 'San Francisco, CA',\n",
       " 'San Francisco, CA',\n",
       " 'San Francisco, CA',\n",
       " 'San Francisco, CA',\n",
       " 'San Francisco, CA',\n",
       " 'San Francisco, CA',\n",
       " 'San Francisco, CA',\n",
       " 'San Francisco, CA',\n",
       " 'San Francisco, CA',\n",
       " 'San Francisco, CA',\n",
       " 'San Francisco, CA',\n",
       " 'San Francisco, CA',\n",
       " 'San Francisco, CA',\n",
       " 'San Francisco, CA',\n",
       " 'San Francisco, CA',\n",
       " 'San Francisco, CA',\n",
       " 'San Francisco, CA',\n",
       " 'San Francisco, CA',\n",
       " 'San Francisco, CA',\n",
       " 'San Francisco, CA',\n",
       " 'San Francisco, CA',\n",
       " 'San Francisco, CA',\n",
       " 'San Francisco, CA',\n",
       " 'San Francisco, CA',\n",
       " 'San Francisco, CA',\n",
       " 'San Francisco, CA',\n",
       " 'San Francisco, CA',\n",
       " 'San Francisco, CA',\n",
       " 'San Francisco, CA',\n",
       " 'San Francisco, CA',\n",
       " 'San Francisco, CA',\n",
       " 'San Francisco, CA',\n",
       " 'San Francisco, CA',\n",
       " 'San Francisco, CA',\n",
       " 'San Francisco, CA',\n",
       " 'San Francisco, CA',\n",
       " 'San Francisco, CA',\n",
       " 'San Francisco, CA',\n",
       " 'San Francisco, CA',\n",
       " 'San Francisco, CA',\n",
       " 'San Francisco, CA',\n",
       " 'San Francisco, CA',\n",
       " 'San Francisco, CA',\n",
       " 'San Francisco, CA',\n",
       " 'San Francisco, CA',\n",
       " 'San Francisco, CA',\n",
       " 'San Francisco, CA',\n",
       " 'San Francisco, CA',\n",
       " 'San Francisco, CA',\n",
       " 'San Francisco, CA',\n",
       " 'San Francisco, CA',\n",
       " 'San Francisco, CA',\n",
       " 'San Francisco, CA',\n",
       " 'San Francisco, CA',\n",
       " 'San Francisco, CA',\n",
       " 'San Francisco, CA',\n",
       " 'San Francisco, CA',\n",
       " 'San Francisco, CA',\n",
       " 'San Francisco, CA',\n",
       " 'San Francisco, CA',\n",
       " 'San Francisco, CA',\n",
       " 'San Francisco, CA',\n",
       " 'San Francisco, CA',\n",
       " 'San Francisco, CA',\n",
       " 'San Francisco, CA',\n",
       " 'San Francisco, CA',\n",
       " 'San Francisco, CA',\n",
       " 'San Francisco, CA',\n",
       " 'San Francisco, CA']"
      ]
     },
     "execution_count": 13,
     "metadata": {},
     "output_type": "execute_result"
    }
   ],
   "source": [
    "locations = []\n",
    "tweets_with_location = []\n",
    "for tweet in tweets:\n",
    "    current_tweet = tweet._json['place']\n",
    "    if current_tweet is not None:\n",
    "        tweets_with_location.append(current_tweet)\n",
    "        locations.append(current_tweet['full_name'])\n",
    "locations"
   ]
  },
  {
   "cell_type": "markdown",
   "metadata": {
    "collapsed": true
   },
   "source": [
    "## Part 5: Tweet Location Visualization\n",
    "\n",
    "Now that we have stored the location of the user's tweets, it is time to create a visualization."
   ]
  },
  {
   "cell_type": "code",
   "execution_count": null,
   "metadata": {},
   "outputs": [],
   "source": [
    "#Create map visualization of user's tweets.\n",
    "geoplotlib.dot(data=first_loc)\n"
   ]
  },
  {
   "cell_type": "code",
   "execution_count": 38,
   "metadata": {},
   "outputs": [
    {
     "data": {
      "text/plain": [
       "<geoplotlib.utils.BoundingBox at 0x10d521e10>"
      ]
     },
     "execution_count": 38,
     "metadata": {},
     "output_type": "execute_result"
    }
   ],
   "source": [
    "first_loc = tweets_with_location[0]['bounding_box']['coordinates']#[0][0]\n",
    "#table = pandas.DataFrame([['Malibu', first_loc[0], first_loc[1]]], columns=['name', 'lat', 'lon'])\n",
    "#geoplotlib.dot(data=table)\n",
    "#geoplotlib.show()\n",
    "bb = geoplotlib.utils.BoundingBox(-118.873235,34.000405,-118.584559,34.04779)\n",
    "bb.USA"
   ]
  },
  {
   "cell_type": "markdown",
   "metadata": {},
   "source": [
    "## Part 6: Conclusion\n",
    "\n",
    "The implication"
   ]
  },
  {
   "cell_type": "code",
   "execution_count": null,
   "metadata": {
    "collapsed": true
   },
   "outputs": [],
   "source": []
  }
 ],
 "metadata": {
  "kernelspec": {
   "display_name": "Python 3",
   "language": "python",
   "name": "python3"
  },
  "language_info": {
   "codemirror_mode": {
    "name": "ipython",
    "version": 3
   },
   "file_extension": ".py",
   "mimetype": "text/x-python",
   "name": "python",
   "nbconvert_exporter": "python",
   "pygments_lexer": "ipython3",
   "version": "3.6.1"
  }
 },
 "nbformat": 4,
 "nbformat_minor": 2
}
