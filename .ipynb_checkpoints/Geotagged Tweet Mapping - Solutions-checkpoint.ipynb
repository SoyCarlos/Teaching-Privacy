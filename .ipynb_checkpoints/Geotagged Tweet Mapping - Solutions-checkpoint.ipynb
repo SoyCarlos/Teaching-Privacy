{
 "cells": [
  {
   "cell_type": "markdown",
   "metadata": {},
   "source": [
    "# Geotagged Tweet Mapping\n",
    "#### Welcome to the Geotagged Tweet Mapping project for *Teaching Privacy*.\n",
    "\n",
    "**This project is due on 00/00/00.**\n",
    "\n",
    "This project will rely on several Python libraries, some of which you may have not used before, and will require you have a Twitter account. Thus, it is highly recommended you do this in pairs or groups. \n",
    "\n",
    "If students have not worked with for loops or dictionaries before, they may require extra assistance during those sections."
   ]
  },
  {
   "cell_type": "markdown",
   "metadata": {},
   "source": [
    "## Part 1a: Installing Tweepy\n",
    "\n",
    "\n",
    "*pip install tweepy*\n",
    "\n",
    "Check the readme file on https://github.com/tweepy/tweepy for the most up to date installation instructions. \n",
    "\n",
    "Run the cell below to import the module."
   ]
  },
  {
   "cell_type": "code",
   "execution_count": 2,
   "metadata": {
    "collapsed": true
   },
   "outputs": [],
   "source": [
    "import tweepy\n",
    "from tweepy import TweepError\n",
    "import json"
   ]
  },
  {
   "cell_type": "markdown",
   "metadata": {},
   "source": [
    "## Part 1: Create Twitter App\n",
    "\n",
    "\n",
    "1. Go to https://apps.twitter.com and click 'Sign In'. If you do not have a Twitter account or do not want to use your current Twitter account, you will have to create one.\n",
    "2. Click on 'Create New App'.\n",
    "3. Give your app a Name, Description and a Website. For the website you are allowed to put a placeholder such as https://www.google.com."
   ]
  },
  {
   "cell_type": "markdown",
   "metadata": {},
   "source": [
    "## Part 2: Obtain Twitter Tokens \n",
    "\n",
    "When using APIs that require tokens and keys for authentication, it is common practice to have your keys in a separate JSON file as to protect yourself and the application's users. Your file should not be posted on public repositories, and you should **never** share your keys. \n",
    "\n",
    "\n",
    "Create a new text file named **twitter_keys.json** with the following format:\n",
    "\n",
    "{ <br>\n",
    "   \"api_key\":\"\", <br>\n",
    "   \"api_secret\":  \"\", <br>\n",
    "   \"access_token\": \"\", <br>\n",
    "   \"access_token_secret\": \"\" <br>\n",
    "}\n",
    "<br>\n",
    "1. Go to your app you created in the previous step and head on to the 'Keys and Access Tokens' tab. \n",
    "2. Copy and paste the tokens and keys for the corresponding variables in your JSON file. <br>\n",
    "    a. You will have to click 'Create my access token' the first time you create your app. <br>\n",
    "    b. Make sure you copy and paste the tokens inside the quotation marks.\n",
    "3. Run the cell below to assign your keys to the keys variable."
   ]
  },
  {
   "cell_type": "code",
   "execution_count": 3,
   "metadata": {
    "collapsed": true
   },
   "outputs": [],
   "source": [
    "keys_file = 'twitter_keys.json'\n",
    "with open(keys_file) as file:\n",
    "    keys = json.load(file)"
   ]
  },
  {
   "cell_type": "markdown",
   "metadata": {},
   "source": [
    "## Part 3: Using the Twitter API with Tweepy\n",
    "\n",
    "Run the cell below to check if you have correctly set up the keys."
   ]
  },
  {
   "cell_type": "code",
   "execution_count": 4,
   "metadata": {},
   "outputs": [
    {
     "name": "stdout",
     "output_type": "stream",
     "text": [
      "You have correctly set up your API keys. Your username is: ImKarloss\n"
     ]
    }
   ],
   "source": [
    "try:\n",
    "    auth = tweepy.OAuthHandler(keys[\"api_key\"], keys[\"api_secret\"])\n",
    "    auth.set_access_token(keys[\"access_token\"], keys[\"access_token_secret\"])\n",
    "    api = tweepy.API(auth)\n",
    "    print(\"You have correctly set up your API keys. Your username is:\", api.auth.get_username())\n",
    "except TweepError as e:\n",
    "    print(\"Tweepy found an error. Revisit your twitter_keys.json file and make sure you have the correct keys.\")"
   ]
  },
  {
   "cell_type": "markdown",
   "metadata": {},
   "source": [
    "Now that you have been authenticated to use the Twitter API, it is time to get acquainted with the Twitter API.\n",
    "\n",
    "Using the <a href=\"http://tweepy.readthedocs.io/en/v3.5.0/\">documentation</a>, find Twitter's @jack 200 most-recent tweets in the cell below.\n",
    "\n",
    "**Hint: Look for a method to return the user timeline under 'API Reference'. http://docs.tweepy.org/en/v3.5.0/api.html#timeline-methods**"
   ]
  },
  {
   "cell_type": "code",
   "execution_count": 5,
   "metadata": {
    "collapsed": true
   },
   "outputs": [],
   "source": [
    "tweets = api.user_timeline(screen_name=\"jack\", count=200)"
   ]
  },
  {
   "cell_type": "markdown",
   "metadata": {},
   "source": [
    "In the cell below, find what type of data type we found in the previous tweet."
   ]
  },
  {
   "cell_type": "code",
   "execution_count": 6,
   "metadata": {},
   "outputs": [
    {
     "data": {
      "text/plain": [
       "tweepy.models.ResultSet"
      ]
     },
     "execution_count": 6,
     "metadata": {},
     "output_type": "execute_result"
    }
   ],
   "source": [
    "type(tweets)"
   ]
  },
  {
   "cell_type": "markdown",
   "metadata": {},
   "source": [
    "The cell above should say we have a tweepy.models.ResultSet, which is a list of Status objects, or tweets. Confirm this in the cell below by indexing the first tweet and checking its type."
   ]
  },
  {
   "cell_type": "code",
   "execution_count": 35,
   "metadata": {},
   "outputs": [
    {
     "data": {
      "text/plain": [
       "tweepy.models.Status"
      ]
     },
     "execution_count": 35,
     "metadata": {},
     "output_type": "execute_result"
    }
   ],
   "source": [
    "first_tweet = tweets[0]\n",
    "type(first_tweet)"
   ]
  },
  {
   "cell_type": "markdown",
   "metadata": {},
   "source": [
    "RESTful APIs typically send data in JSON format, the same format as our keys file. Using the '._json' attribute, convert the first tweet into a dictionary in the cell below. \n",
    "\n",
    "**Hint: Read this stackoverflow post for more information about the json attribute https://stackoverflow.com/questions/27900451/convert-tweepy-status-object-into-json ** <br>\n",
    "**Hint 2: If you have not used dictionaries before, you can see this video on the subject. https://stackoverflow.com/questions/27900451/convert-tweepy-status-object-into-json**"
   ]
  },
  {
   "cell_type": "code",
   "execution_count": 36,
   "metadata": {},
   "outputs": [
    {
     "data": {
      "text/plain": [
       "{'contributors': None,\n",
       " 'coordinates': None,\n",
       " 'created_at': 'Thu Aug 16 00:02:50 +0000 2018',\n",
       " 'entities': {'hashtags': [],\n",
       "  'symbols': [],\n",
       "  'urls': [],\n",
       "  'user_mentions': [{'id': 7445912,\n",
       "    'id_str': '7445912',\n",
       "    'indices': [0, 7],\n",
       "    'name': 'Pablo Defendini',\n",
       "    'screen_name': 'pablod'}]},\n",
       " 'favorite_count': 154,\n",
       " 'favorited': False,\n",
       " 'geo': None,\n",
       " 'id': 1029881129266900992,\n",
       " 'id_str': '1029881129266900992',\n",
       " 'in_reply_to_screen_name': 'pablod',\n",
       " 'in_reply_to_status_id': 1029880867894775810,\n",
       " 'in_reply_to_status_id_str': '1029880867894775810',\n",
       " 'in_reply_to_user_id': 7445912,\n",
       " 'in_reply_to_user_id_str': '7445912',\n",
       " 'is_quote_status': False,\n",
       " 'lang': 'en',\n",
       " 'place': None,\n",
       " 'retweet_count': 16,\n",
       " 'retweeted': False,\n",
       " 'source': '<a href=\"http://twitter.com/download/iphone\" rel=\"nofollow\">Twitter for iPhone</a>',\n",
       " 'text': '@pablod We take responsibility, and enforce accordingly',\n",
       " 'truncated': False,\n",
       " 'user': {'contributors_enabled': False,\n",
       "  'created_at': 'Tue Mar 21 20:50:14 +0000 2006',\n",
       "  'default_profile': False,\n",
       "  'default_profile_image': False,\n",
       "  'description': '‽',\n",
       "  'entities': {'description': {'urls': []}},\n",
       "  'favourites_count': 22350,\n",
       "  'follow_request_sent': False,\n",
       "  'followers_count': 4027052,\n",
       "  'following': False,\n",
       "  'friends_count': 3642,\n",
       "  'geo_enabled': True,\n",
       "  'has_extended_profile': False,\n",
       "  'id': 12,\n",
       "  'id_str': '12',\n",
       "  'is_translation_enabled': False,\n",
       "  'is_translator': False,\n",
       "  'lang': 'en',\n",
       "  'listed_count': 27682,\n",
       "  'location': '',\n",
       "  'name': 'jack',\n",
       "  'notifications': False,\n",
       "  'profile_background_color': 'EBEBEB',\n",
       "  'profile_background_image_url': 'http://abs.twimg.com/images/themes/theme7/bg.gif',\n",
       "  'profile_background_image_url_https': 'https://abs.twimg.com/images/themes/theme7/bg.gif',\n",
       "  'profile_background_tile': False,\n",
       "  'profile_banner_url': 'https://pbs.twimg.com/profile_banners/12/1483046077',\n",
       "  'profile_image_url': 'http://pbs.twimg.com/profile_images/839863609345794048/mkpdB9Tf_normal.jpg',\n",
       "  'profile_image_url_https': 'https://pbs.twimg.com/profile_images/839863609345794048/mkpdB9Tf_normal.jpg',\n",
       "  'profile_link_color': '990000',\n",
       "  'profile_sidebar_border_color': 'DFDFDF',\n",
       "  'profile_sidebar_fill_color': 'F3F3F3',\n",
       "  'profile_text_color': '333333',\n",
       "  'profile_use_background_image': True,\n",
       "  'protected': False,\n",
       "  'screen_name': 'jack',\n",
       "  'statuses_count': 24266,\n",
       "  'time_zone': None,\n",
       "  'translator_type': 'regular',\n",
       "  'url': None,\n",
       "  'utc_offset': None,\n",
       "  'verified': True}}"
      ]
     },
     "execution_count": 36,
     "metadata": {},
     "output_type": "execute_result"
    }
   ],
   "source": [
    "first_tweet_dict = first_tweet._json\n",
    "first_tweet_dict"
   ]
  },
  {
   "cell_type": "markdown",
   "metadata": {},
   "source": [
    "Looking at the cell above, you should see that we are returned a nested dictionary. This represents the common JSON format, however, this in itself is not a JSON file. \n",
    "\n",
    "Explore the result and find where the tweet location is and under which keys. Use the cell below to print the first tweet's location.\n",
    "\n",
    "**Note: Not all tweets have locations embedded. Tweets without location will have a None value in their place.**\n",
    "**Hint: Find the first tweet's 'place' tag.**"
   ]
  },
  {
   "cell_type": "code",
   "execution_count": 37,
   "metadata": {},
   "outputs": [
    {
     "name": "stdout",
     "output_type": "stream",
     "text": [
      "This tweet was tweeted from: None\n"
     ]
    }
   ],
   "source": [
    "first_tweet_location = first_tweet_dict['place']\n",
    "print('This tweet was tweeted from:', first_tweet_location)"
   ]
  },
  {
   "cell_type": "markdown",
   "metadata": {},
   "source": [
    "## Part 4: Tweet Locations\n",
    "\n",
    "In the cell below, find the locations for all tweets we obtained. \n",
    "\n",
    "Hint: Not all tweets are geo-tagged so figure out how to only append tweet locations to the list instead of those with no location."
   ]
  },
  {
   "cell_type": "code",
   "execution_count": 13,
   "metadata": {},
   "outputs": [
    {
     "data": {
      "text/plain": [
       "['Missouri, USA',\n",
       " 'Illinois, USA',\n",
       " 'Ohio, USA',\n",
       " 'West Virginia, USA',\n",
       " 'San Francisco, CA',\n",
       " 'San Francisco, CA',\n",
       " 'San Francisco, CA',\n",
       " 'San Francisco, CA',\n",
       " 'San Francisco, CA',\n",
       " 'San Francisco, CA',\n",
       " 'San Francisco, CA',\n",
       " 'San Francisco, CA',\n",
       " 'San Francisco, CA',\n",
       " 'San Francisco, CA',\n",
       " 'San Francisco, CA',\n",
       " 'San Francisco, CA',\n",
       " 'San Francisco, CA',\n",
       " 'San Francisco, CA',\n",
       " 'San Francisco, CA',\n",
       " 'San Francisco, CA',\n",
       " 'San Francisco, CA',\n",
       " 'San Francisco, CA',\n",
       " 'San Francisco, CA',\n",
       " 'San Francisco, CA',\n",
       " 'San Francisco, CA',\n",
       " 'San Francisco, CA',\n",
       " 'San Francisco, CA',\n",
       " 'San Francisco, CA',\n",
       " 'San Francisco, CA',\n",
       " 'San Francisco, CA',\n",
       " 'San Francisco, CA',\n",
       " 'San Francisco, CA',\n",
       " 'San Francisco, CA',\n",
       " 'San Francisco, CA',\n",
       " 'San Francisco, CA',\n",
       " 'San Francisco, CA',\n",
       " 'San Francisco, CA',\n",
       " 'San Francisco, CA',\n",
       " 'San Francisco, CA',\n",
       " 'San Francisco, CA',\n",
       " 'San Francisco, CA',\n",
       " 'San Francisco, CA',\n",
       " 'San Francisco, CA',\n",
       " 'San Francisco, CA',\n",
       " 'San Francisco, CA',\n",
       " 'San Francisco, CA',\n",
       " 'San Francisco, CA',\n",
       " 'San Francisco, CA',\n",
       " 'San Francisco, CA',\n",
       " 'San Francisco, CA',\n",
       " 'San Francisco, CA',\n",
       " 'San Francisco, CA',\n",
       " 'San Francisco, CA',\n",
       " 'San Francisco, CA',\n",
       " 'San Francisco, CA',\n",
       " 'San Francisco, CA',\n",
       " 'San Francisco, CA',\n",
       " 'San Francisco, CA',\n",
       " 'San Francisco, CA',\n",
       " 'San Francisco, CA',\n",
       " 'San Francisco, CA',\n",
       " 'San Francisco, CA',\n",
       " 'San Francisco, CA',\n",
       " 'San Francisco, CA',\n",
       " 'San Francisco, CA',\n",
       " 'San Francisco, CA',\n",
       " 'San Francisco, CA',\n",
       " 'San Francisco, CA',\n",
       " 'San Francisco, CA',\n",
       " 'San Francisco, CA',\n",
       " 'San Francisco, CA',\n",
       " 'San Francisco, CA',\n",
       " 'San Francisco, CA',\n",
       " 'San Francisco, CA',\n",
       " 'San Francisco, CA',\n",
       " 'San Francisco, CA',\n",
       " 'San Francisco, CA',\n",
       " 'San Francisco, CA',\n",
       " 'San Francisco, CA',\n",
       " 'San Francisco, CA',\n",
       " 'San Francisco, CA',\n",
       " 'San Francisco, CA',\n",
       " 'San Francisco, CA',\n",
       " 'San Francisco, CA',\n",
       " 'San Francisco, CA',\n",
       " 'San Francisco, CA',\n",
       " 'San Francisco, CA',\n",
       " 'San Francisco, CA',\n",
       " 'San Francisco, CA',\n",
       " 'San Francisco, CA',\n",
       " 'San Francisco, CA',\n",
       " 'San Francisco, CA',\n",
       " 'San Francisco, CA',\n",
       " 'San Francisco, CA',\n",
       " 'San Francisco, CA',\n",
       " 'San Francisco, CA',\n",
       " 'San Francisco, CA',\n",
       " 'San Francisco, CA']"
      ]
     },
     "execution_count": 13,
     "metadata": {},
     "output_type": "execute_result"
    }
   ],
   "source": [
    "locations = []\n",
    "tweets_with_location = []\n",
    "for tweet in tweets:\n",
    "    current_tweet = tweet._json['place']\n",
    "    if current_tweet is not None:\n",
    "        tweets_with_location.append(current_tweet)\n",
    "        locations.append(current_tweet['full_name'])\n",
    "locations"
   ]
  },
  {
   "cell_type": "markdown",
   "metadata": {},
   "source": [
    "## Part 5a: Installing \n",
    "\n",
    "We will be using the geoplotlib library to visualize tweet locations. Since geoplotlib requires two other libraries, numpy and pyglet, we will have to install those too using the following 3, separate, commands in your terminal:\n",
    "\n",
    "*pip install numpy <br>\n",
    "pip install pyglet <br>\n",
    "pip install geoplotlib <br>*\n",
    "\n",
    "Once done, run the cell below to import tweepy and all other necessary Python modules."
   ]
  },
  {
   "cell_type": "code",
   "execution_count": 14,
   "metadata": {
    "collapsed": true
   },
   "outputs": [],
   "source": [
    "import geoplotlib"
   ]
  },
  {
   "cell_type": "markdown",
   "metadata": {},
   "source": [
    "## Part 5: Tweet Location Visualization\n",
    "\n",
    "Now that we have stored the location of the user's tweets, it is time to create a visualization.\n",
    "\n",
    "For each tweet with a location, twitter stores 4 pairs of latitudes and longitudes for each corner of the bounding box. For each tweet, store the 1st pair from each bounding box in an array named 'coords'.\n"
   ]
  },
  {
   "cell_type": "code",
   "execution_count": 15,
   "metadata": {
    "collapsed": true
   },
   "outputs": [],
   "source": [
    "coords = []\n",
    "for tweet in tweets_with_location:\n",
    "    coords.append(tweet['bounding_box']['coordinates'][0][0])"
   ]
  },
  {
   "cell_type": "markdown",
   "metadata": {
    "collapsed": true
   },
   "source": [
    "geoplotlib has a utils.DataAccessObject that takes in a dictionary or pandas dataframe to create a DataAccessObject. This is the data type that the library uses to create its maps.\n",
    "\n",
    "Create a dictionary with 3 keys: latitude, longitude, and name of the city. For each key the value should be a list with the corresponding values, you should already have the necessary values in previously assigned arrays.\n",
    "\n",
    "Once done, use the utils.DataAccessObject method to create the DataAccessObject and createa a dot density map with the .dot method.\n",
    "\n",
    "**Hint: After using the .dot method to create a dot density map, you must call geoplotlib.show() to open up a window with the map.**"
   ]
  },
  {
   "cell_type": "code",
   "execution_count": null,
   "metadata": {
    "collapsed": true
   },
   "outputs": [],
   "source": [
    "lat, lon, name = [], [], locations\n",
    "lat = [coordinate[1] for coordinate in coords]\n",
    "lon = [coordinate[0] for coordinate in coords]\n",
    "loc = {'lat': lat, 'lon': lon, 'name': name}\n",
    "geo_loc = geoplotlib.utils.DataAccessObject(loc)\n",
    "geoplotlib.dot(geo_loc)\n",
    "geoplotlib.show()"
   ]
  },
  {
   "cell_type": "markdown",
   "metadata": {
    "collapsed": true
   },
   "source": [
    "## Part 6: Conclusion\n",
    "\n",
    "This assignment will have different results depending on the Twitter user you inspect. Some users will have no tweets with embedded locations, and others may only tweet from a single city.\n",
    "\n",
    "Examining locations in tweets can give an estimate of where a user lives or a user's up-to-date whereabouts."
   ]
  }
 ],
 "metadata": {
  "kernelspec": {
   "display_name": "Python 3",
   "language": "python",
   "name": "python3"
  },
  "language_info": {
   "codemirror_mode": {
    "name": "ipython",
    "version": 3
   },
   "file_extension": ".py",
   "mimetype": "text/x-python",
   "name": "python",
   "nbconvert_exporter": "python",
   "pygments_lexer": "ipython3",
   "version": "3.6.1"
  }
 },
 "nbformat": 4,
 "nbformat_minor": 2
}
