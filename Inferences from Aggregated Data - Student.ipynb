{
 "cells": [
  {
   "cell_type": "markdown",
   "metadata": {},
   "source": [
    "# Inferences from Aggregated Data\n",
    "\n",
    "#### Welcome to the Inferences from Aggregated Data project for *Teaching Privacy*.\n",
    "\n",
    "**This project is due on 00/00/00.**\n",
    "\n",
    "This project will have you use <a href=\"http://tweepy.readthedocs.io/en/v3.5.0/\">Tweepy</a> (a Python library to access the Twitter API) and <a href=\"https://github.com/tumblr/pytumblr\">pytumblr</a> (a Python library to access the Tumblr API).\n",
    "\n",
    "It is nearly common knowledge that companies and governments buy and sell user data. However, it is not as well known the magnitude to which to these groups collect data. Pulitzer prize winning journalist, Andrew Lewis, tweeted in 2010, \"If you are not paying for it, you're not the customer; you're the product being sold.\"\n",
    "\n",
    "Users divulge personal data when signing up for accounts, but they can also be giving information away without being conscious of it. Companies can identify or partially identify users through their device fingerprints, with no need for an account being created or cookies being used. Device fingerprints are comprised of the device being used, its operating system, the browser, the browser version, and browser plugins among other things.\n",
    "\n",
    "In this project, you will aggregate data from Kai Peroc from Tumblr and Twitter.\n",
    "\n",
    "Below are their social media profiles: <br>\n",
    "https://twitter.com/kaiperoc <br>\n",
    "https://kaiperoc.tumblr.com"
   ]
  },
  {
   "cell_type": "markdown",
   "metadata": {},
   "source": [
    "## Part 1: Setting up API\n",
    "\n",
    "### Tumblr API\n",
    "\n",
    "To use the Tumblr API, we will be using pytumblr. To install it run the following in your terminal: <br>\n",
    "sudo pip install oauth oauth2 pytumblr\n",
    "\n",
    "### Twitter API\n",
    "\n",
    "This project will have you use Tweepy, a Python library to access the Twitter API. The easiest way to install is to run the following in your terminal:\n",
    "\n",
    "*pip install tweepy*\n",
    "\n",
    "If this does not work check out the readme file on https://github.com/tweepy/tweepy for the most up to date installation instructions. \n",
    "\n",
    "Now run the cell below to import the appropriate packages."
   ]
  },
  {
   "cell_type": "code",
   "execution_count": 2,
   "metadata": {
    "collapsed": true
   },
   "outputs": [],
   "source": [
    "import pytumblr\n",
    "import tweepy\n",
    "from tweepy import TweepError\n",
    "import json\n",
    "import re"
   ]
  },
  {
   "cell_type": "markdown",
   "metadata": {},
   "source": [
    "### Getting Tumblr API Keys\n",
    "\n",
    "Now we need to get our keys.\n",
    "1. Go to https://www.tumblr.com/oauth/apps. Create a tumblr account if you do not have one already or create a new one if you do not want to use the one you already have.\n",
    "2. Click on 'Register application' and fill out the required fields. For the Application website and callback URL you can use https://www.google.com\n",
    "3. Under your application, you should see your Oauth consumer key and your secret key. Go to https://api.tumblr.com/console and copy and paste these keys into the appropriate fields to get your oauth token and oauth secret key. <br> <br>\n",
    "When using APIs that require tokens and keys for authentication, it is common practice to have your keys in a separate JSON file as to protect yourself and the application's users. Your file should not be posted on public repositories, and you should **never** share your keys. <br> <br>\n",
    "4. Create a **tumblr_keys.json** file in the same format as below with your keys in the empty quotation marks: <br> <br>\n",
    "{ <br>\n",
    "   \"api_key\": \"\" <br>\n",
    "   \"api_secret\":  \"\", <br>\n",
    "   \"oauth_token\": \"\", <br>\n",
    "   \"oauth_secret\": \"\" <br>\n",
    "}\n",
    "\n",
    "### Getting Twitter API Keys\n",
    "\n",
    "1. Go to https://apps.twitter.com and click 'Sign In'. If you do not have a Twitter account or do not want to use your current Twitter account, you will have to create one.\n",
    "2. Click on 'Create New App'.\n",
    "3. Give your app a Name, Description and a Website. For the website you are allowed to put a placeholder such as https://www.google.com.\n",
    "\n",
    "Create a new text file named **twitter_keys.json** with the following format:\n",
    "\n",
    "{ <br>\n",
    "   \"consumer_key\":\"\", <br>\n",
    "   \"consumer_secret\":  \"\", <br>\n",
    "   \"access_token\": \"\", <br>\n",
    "   \"access_token_secret\": \"\" <br>\n",
    "}\n",
    "<br>\n",
    "1. Go to your app you created in the previous step and head on to the 'Keys and Access Tokens' tab. \n",
    "2. Copy and paste the tokens and keys for the corresponding variables in your JSON file. <br>\n",
    "    a. You will have to click 'Create my access token' the first time you create your app. <br>\n",
    "    b. Make sure you copy and paste the tokens inside the quotation marks.\n",
    "3. Run the cell below to assign your keys to the appropriate variable."
   ]
  },
  {
   "cell_type": "code",
   "execution_count": 3,
   "metadata": {
    "collapsed": true
   },
   "outputs": [],
   "source": [
    "twitter_keys_file = 'twitter_keys.json'\n",
    "tumblr_keys_file = 'tumblr_keys.json'\n",
    "with open(twitter_keys_file) as file:\n",
    "    twitter_keys = json.load(file)\n",
    "with open(tumblr_keys_file) as file:\n",
    "    tumblr_keys = json.load(file)"
   ]
  },
  {
   "cell_type": "markdown",
   "metadata": {},
   "source": [
    "### Setting up Tumblr API\n",
    "\n",
    "Now that you have setup your keys, run the cell below to establish your Tumblr API."
   ]
  },
  {
   "cell_type": "code",
   "execution_count": 4,
   "metadata": {},
   "outputs": [
    {
     "data": {
      "text/plain": [
       "{'user': {'blogs': [{'admin': True,\n",
       "    'ask': True,\n",
       "    'ask_anon': True,\n",
       "    'ask_page_title': 'Ask me anything',\n",
       "    'can_send_fan_mail': True,\n",
       "    'can_submit': True,\n",
       "    'can_subscribe': False,\n",
       "    'description': 'The Office, music, and friends. #CarpeDiem',\n",
       "    'drafts': 0,\n",
       "    'facebook': 'N',\n",
       "    'facebook_opengraph_enabled': 'N',\n",
       "    'followed': False,\n",
       "    'followers': 394,\n",
       "    'is_blocked_from_primary': False,\n",
       "    'likes': 8807,\n",
       "    'messages': 4,\n",
       "    'name': 'ratchetmessiah',\n",
       "    'posts': 16636,\n",
       "    'primary': True,\n",
       "    'queue': 0,\n",
       "    'share_likes': True,\n",
       "    'submission_page_title': 'Submit a post',\n",
       "    'submission_terms': {'accepted_types': ['text',\n",
       "      'photo',\n",
       "      'quote',\n",
       "      'link',\n",
       "      'video'],\n",
       "     'guidelines': '',\n",
       "     'tags': [],\n",
       "     'title': 'Submit a post'},\n",
       "    'subscribed': False,\n",
       "    'title': 'Swagalicious Fergalicious Blog',\n",
       "    'total_posts': 16636,\n",
       "    'tweet': 'N',\n",
       "    'twitter_enabled': False,\n",
       "    'twitter_send': False,\n",
       "    'type': 'public',\n",
       "    'updated': 1496643575,\n",
       "    'url': 'http://ratchetmessiah.tumblr.com/'},\n",
       "   {'admin': True,\n",
       "    'ask': False,\n",
       "    'ask_anon': False,\n",
       "    'ask_page_title': 'Ask me anything',\n",
       "    'can_send_fan_mail': True,\n",
       "    'can_subscribe': True,\n",
       "    'description': \"I was bored so I made this blog! :D\\nI have a blog that's supposed to be funny too!\",\n",
       "    'drafts': 0,\n",
       "    'facebook': 'N',\n",
       "    'facebook_opengraph_enabled': 'N',\n",
       "    'followed': True,\n",
       "    'followers': 1,\n",
       "    'is_blocked_from_primary': False,\n",
       "    'messages': 0,\n",
       "    'name': 'thiswasfree',\n",
       "    'posts': 77,\n",
       "    'primary': False,\n",
       "    'queue': 0,\n",
       "    'share_likes': False,\n",
       "    'subscribed': False,\n",
       "    'title': 'This was Free',\n",
       "    'total_posts': 77,\n",
       "    'tweet': 'N',\n",
       "    'twitter_enabled': False,\n",
       "    'twitter_send': False,\n",
       "    'type': 'public',\n",
       "    'updated': 1379866855,\n",
       "    'url': 'http://thiswasfree.tumblr.com/'}],\n",
       "  'default_post_format': 'html',\n",
       "  'following': 45,\n",
       "  'likes': 8807,\n",
       "  'name': 'ratchetmessiah'}}"
      ]
     },
     "execution_count": 4,
     "metadata": {},
     "output_type": "execute_result"
    }
   ],
   "source": [
    "client = pytumblr.TumblrRestClient(\n",
    "    tumblr_keys['api_key'],\n",
    "    tumblr_keys['api_secret'],\n",
    "    tumblr_keys['oauth_token'],\n",
    "    tumblr_keys['oauth_secret'],\n",
    ")\n",
    "client.info()"
   ]
  },
  {
   "cell_type": "markdown",
   "metadata": {},
   "source": [
    "### Setting up Twitter API\n",
    "\n",
    "Run the cell below to check if you have correctly set up the keys."
   ]
  },
  {
   "cell_type": "code",
   "execution_count": 5,
   "metadata": {},
   "outputs": [
    {
     "name": "stdout",
     "output_type": "stream",
     "text": [
      "You have correctly set up your API keys. Your username is: ImKarloss\n"
     ]
    }
   ],
   "source": [
    "try:\n",
    "    auth = tweepy.OAuthHandler(twitter_keys[\"api_key\"], twitter_keys[\"api_secret\"])\n",
    "    auth.set_access_token(twitter_keys[\"access_token\"], twitter_keys[\"access_token_secret\"])\n",
    "    api = tweepy.API(auth)\n",
    "    print(\"You have correctly set up your API keys. Your username is:\", api.auth.get_username())\n",
    "except TweepError as e:\n",
    "    print(\"Tweepy found an error. Revisit your keys.json file and make sure you have the correct keys.\")"
   ]
  },
  {
   "cell_type": "markdown",
   "metadata": {},
   "source": [
    "## Part 2: Obtaining Data\n",
    "\n",
    "Now that you have setup the API, it is time to see what data you can obtain from their social media accounts.\n",
    "\n",
    "Start off by grabbing Kai's Tumblr posts and store them in the array provided. \n",
    "\n",
    "We have provided a line with regular expression (regex) to remove the html tags in posts and an example on how to use it below.\n",
    "\n",
    "When looking for posts, note that not all posts will have the same tags. Look in the 'body' or 'caption' tags.\n",
    "\n",
    "##### Documentation: https://github.com/tumblr/pytumblr\n",
    "##### Hint 1: Look for the .posts method in the documentation provided.\n",
    "##### Hint 2: To get all the posts, store them in a variable like tumblr_call when you call the .posts method and iterate through them with a for loop."
   ]
  },
  {
   "cell_type": "code",
   "execution_count": 6,
   "metadata": {},
   "outputs": [
    {
     "name": "stdout",
     "output_type": "stream",
     "text": [
      "This string has an .\n"
     ]
    }
   ],
   "source": [
    "regex = re.compile('<.*?>')\n",
    "old = \"This string has an <html tag>.\"\n",
    "new = re.sub(regex, '', old)\n",
    "print(new)"
   ]
  },
  {
   "cell_type": "code",
   "execution_count": 7,
   "metadata": {},
   "outputs": [
    {
     "ename": "TypeError",
     "evalue": "argument of type 'ellipsis' is not iterable",
     "output_type": "error",
     "traceback": [
      "\u001b[0;31m---------------------------------------------------------------------------\u001b[0m",
      "\u001b[0;31mTypeError\u001b[0m                                 Traceback (most recent call last)",
      "\u001b[0;32m<ipython-input-7-13c9a7b2de06>\u001b[0m in \u001b[0;36m<module>\u001b[0;34m()\u001b[0m\n\u001b[1;32m      1\u001b[0m \u001b[0mtumblr_posts\u001b[0m \u001b[0;34m=\u001b[0m \u001b[0;34m[\u001b[0m\u001b[0;34m]\u001b[0m\u001b[0;34m\u001b[0m\u001b[0m\n\u001b[0;32m----> 2\u001b[0;31m \u001b[0mtumblr_call\u001b[0m \u001b[0;34m=\u001b[0m \u001b[0mclient\u001b[0m\u001b[0;34m.\u001b[0m\u001b[0mposts\u001b[0m\u001b[0;34m(\u001b[0m\u001b[0;34m...\u001b[0m\u001b[0;34m)\u001b[0m\u001b[0;34m\u001b[0m\u001b[0m\n\u001b[0m\u001b[1;32m      3\u001b[0m \u001b[0;34m\u001b[0m\u001b[0m\n\u001b[1;32m      4\u001b[0m \u001b[0mtumblr_posts\u001b[0m\u001b[0;34m\u001b[0m\u001b[0m\n",
      "\u001b[0;32m/Users/carlosortega/anaconda/lib/python3.6/site-packages/pytumblr/helpers.py\u001b[0m in \u001b[0;36madd_dot_tumblr\u001b[0;34m(*args, **kwargs)\u001b[0m\n\u001b[1;32m     42\u001b[0m     \u001b[0;34m@\u001b[0m\u001b[0mwraps\u001b[0m\u001b[0;34m(\u001b[0m\u001b[0mfn\u001b[0m\u001b[0;34m)\u001b[0m\u001b[0;34m\u001b[0m\u001b[0m\n\u001b[1;32m     43\u001b[0m     \u001b[0;32mdef\u001b[0m \u001b[0madd_dot_tumblr\u001b[0m\u001b[0;34m(\u001b[0m\u001b[0;34m*\u001b[0m\u001b[0margs\u001b[0m\u001b[0;34m,\u001b[0m \u001b[0;34m**\u001b[0m\u001b[0mkwargs\u001b[0m\u001b[0;34m)\u001b[0m\u001b[0;34m:\u001b[0m\u001b[0;34m\u001b[0m\u001b[0m\n\u001b[0;32m---> 44\u001b[0;31m         \u001b[0;32mif\u001b[0m \u001b[0;34m(\u001b[0m\u001b[0mlen\u001b[0m\u001b[0;34m(\u001b[0m\u001b[0margs\u001b[0m\u001b[0;34m)\u001b[0m \u001b[0;34m>\u001b[0m \u001b[0;36m1\u001b[0m \u001b[0;32mand\u001b[0m \u001b[0;34m(\u001b[0m\u001b[0;34m\".\"\u001b[0m \u001b[0;32mnot\u001b[0m \u001b[0;32min\u001b[0m \u001b[0margs\u001b[0m\u001b[0;34m[\u001b[0m\u001b[0;36m1\u001b[0m\u001b[0;34m]\u001b[0m\u001b[0;34m)\u001b[0m\u001b[0;34m)\u001b[0m\u001b[0;34m:\u001b[0m\u001b[0;34m\u001b[0m\u001b[0m\n\u001b[0m\u001b[1;32m     45\u001b[0m             \u001b[0margs\u001b[0m \u001b[0;34m=\u001b[0m \u001b[0mlist\u001b[0m\u001b[0;34m(\u001b[0m\u001b[0margs\u001b[0m\u001b[0;34m)\u001b[0m\u001b[0;34m\u001b[0m\u001b[0m\n\u001b[1;32m     46\u001b[0m             \u001b[0margs\u001b[0m\u001b[0;34m[\u001b[0m\u001b[0;36m1\u001b[0m\u001b[0;34m]\u001b[0m \u001b[0;34m+=\u001b[0m \u001b[0;34m\".tumblr.com\"\u001b[0m\u001b[0;34m\u001b[0m\u001b[0m\n",
      "\u001b[0;31mTypeError\u001b[0m: argument of type 'ellipsis' is not iterable"
     ]
    }
   ],
   "source": [
    "tumblr_posts = []\n",
    "tumblr_call = client.posts(...)\n",
    "\n",
    "tumblr_posts"
   ]
  },
  {
   "cell_type": "markdown",
   "metadata": {},
   "source": [
    "Now grab Kai's most-recent tweets and store them in the array provided.\n",
    "\n",
    "**Hint: Look for a method to return the user timeline under 'API Reference'. http://docs.tweepy.org/en/v3.5.0/api.html#timeline-methods**"
   ]
  },
  {
   "cell_type": "code",
   "execution_count": 8,
   "metadata": {},
   "outputs": [
    {
     "data": {
      "text/plain": [
       "[]"
      ]
     },
     "execution_count": 8,
     "metadata": {},
     "output_type": "execute_result"
    }
   ],
   "source": [
    "twitter_posts = []\n",
    "twitter_call = api.user_timeline(...)\n",
    "\n",
    "twitter_posts"
   ]
  },
  {
   "cell_type": "markdown",
   "metadata": {},
   "source": [
    "## Part 3: Aggregate Data\n",
    "\n",
    "Now that you have data from the user on two different social media accounts, it is time to aggregate them. This is done to get a better, wider understanding of the likes and dislikes of the user. Advertising companies aggregate user data across various sites to better target their ads to specific demographics."
   ]
  },
  {
   "cell_type": "code",
   "execution_count": 9,
   "metadata": {},
   "outputs": [
    {
     "data": {
      "text/plain": [
       "[]"
      ]
     },
     "execution_count": 9,
     "metadata": {},
     "output_type": "execute_result"
    }
   ],
   "source": [
    "agg_posts = []\n",
    "\n",
    "agg_posts"
   ]
  },
  {
   "cell_type": "markdown",
   "metadata": {},
   "source": [
    "## Part 4: New Context\n",
    "\n",
    "Now that you have aggregated this user's data from multiple different services, what inferences can you make of them, their interests, affiliations, and personality? What has changed with this new context? How can you, or a company, use this bigger picture of the user?"
   ]
  },
  {
   "cell_type": "markdown",
   "metadata": {
    "collapsed": true
   },
   "source": [
    "### Student Answer\n",
    "Things should touch on:\n",
    "1. Fuller picture of user.\n",
    "2. We can see they own an iPhone\n",
    "3. Lorem ipsum"
   ]
  },
  {
   "cell_type": "markdown",
   "metadata": {},
   "source": [
    "## Part 5: Conclusion\n",
    "\n",
    "By completing this excercise you should find how much information one can find on other users from two websites. It is common for users not to post the same thing on each social site whether it be due to different online social circles or the culture of the site. Advertisers aggregate information on users across many websites to get a fuller picture on users. Often, they can identify users across sites without even having their name and only using their browser fingerprint."
   ]
  },
  {
   "cell_type": "code",
   "execution_count": null,
   "metadata": {
    "collapsed": true
   },
   "outputs": [],
   "source": []
  }
 ],
 "metadata": {
  "kernelspec": {
   "display_name": "Python 3",
   "language": "python",
   "name": "python3"
  },
  "language_info": {
   "codemirror_mode": {
    "name": "ipython",
    "version": 3
   },
   "file_extension": ".py",
   "mimetype": "text/x-python",
   "name": "python",
   "nbconvert_exporter": "python",
   "pygments_lexer": "ipython3",
   "version": "3.6.1"
  }
 },
 "nbformat": 4,
 "nbformat_minor": 2
}
