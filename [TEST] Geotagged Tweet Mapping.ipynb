{
 "cells": [
  {
   "cell_type": "markdown",
   "metadata": {},
   "source": [
    "# Geotagged Tweet Mapping\n",
    "#### Welcome to the Geotagged Tweet Mapping project for *Teaching Privacy*.\n",
    "\n",
    "**This project is due on 00/00/00.**\n",
    "\n",
    "This project will rely on several Python libraries, some of which you may have not used before. Thus, it is highly recommended you do this in pairs or groups. "
   ]
  },
  {
   "cell_type": "markdown",
   "metadata": {},
   "source": [
    "## Part 0a: Installing Tweepy\n",
    "\n",
    "\n",
    "*pip install tweepy*\n",
    "\n",
    "If this does not work check the readme file on https://github.com/tweepy/tweepy for the most up to date installation instructions. \n",
    "\n",
    "Run the cell below to import the module."
   ]
  },
  {
   "cell_type": "code",
   "execution_count": 2,
   "metadata": {
    "collapsed": true
   },
   "outputs": [],
   "source": [
    "import tweepy\n",
    "from tweepy import TweepError\n",
    "import json"
   ]
  },
  {
   "cell_type": "markdown",
   "metadata": {},
   "source": [
    "## Part 1: Create Twitter App\n",
    "\n",
    "\n",
    "1. Go to https://apps.twitter.com and click 'Sign In'. If you do not have a Twitter account or do not want to use your current Twitter account, you will have to create one.\n",
    "2. Click on 'Create New App'.\n",
    "3. Give your app a Name, Description and a Website. For the website you are allowed to put a placeholder such as https://www.google.com."
   ]
  },
  {
   "cell_type": "markdown",
   "metadata": {},
   "source": [
    "## Part 2: Obtain Twitter Tokens \n",
    "\n",
    "When using APIs that require tokens and keys for authentication, it is common practice to have your keys in a separate JSON file as to protect yourself and the application's users. Your file should not be posted on public repositories, and you should **never** share your keys. \n",
    "\n",
    "\n",
    "Create a new text file named **twitter_keys.json** with the following format:\n",
    "\n",
    "{ <br>\n",
    "   \"api_key\":\"\", <br>\n",
    "   \"api_secret\":  \"\", <br>\n",
    "   \"access_token\": \"\", <br>\n",
    "   \"access_token_secret\": \"\" <br>\n",
    "}\n",
    "<br>\n",
    "1. Go to your app you created in the previous step and head on to the 'Keys and Access Tokens' tab. \n",
    "2. Copy and paste the tokens and keys for the corresponding variables in your JSON file. <br>\n",
    "    a. You will have to click 'Create my access token' the first time you create your app. <br>\n",
    "    b. Make sure you copy and paste the tokens inside the quotation marks.\n",
    "3. Run the cell below to assign your keys to the keys variable."
   ]
  },
  {
   "cell_type": "code",
   "execution_count": 3,
   "metadata": {
    "collapsed": true
   },
   "outputs": [],
   "source": [
    "keys_file = 'twitter_keys.json'\n",
    "with open(keys_file) as file:\n",
    "    keys = json.load(file)"
   ]
  },
  {
   "cell_type": "markdown",
   "metadata": {},
   "source": [
    "## Part 3: Using the Twitter API with Tweepy\n",
    "\n",
    "Run the cell below to check if you have correctly set up the keys."
   ]
  },
  {
   "cell_type": "code",
   "execution_count": 4,
   "metadata": {},
   "outputs": [
    {
     "name": "stdout",
     "output_type": "stream",
     "text": [
      "You have correctly set up your API keys. Your username is: ImKarloss\n"
     ]
    }
   ],
   "source": [
    "try:\n",
    "    auth = tweepy.OAuthHandler(keys[\"api_key\"], keys[\"api_secret\"])\n",
    "    auth.set_access_token(keys[\"access_token\"], keys[\"access_token_secret\"])\n",
    "    api = tweepy.API(auth)\n",
    "    print(\"You have correctly set up your API keys. Your username is:\", api.auth.get_username())\n",
    "except TweepError as e:\n",
    "    print(\"Tweepy found an error. Revisit your twitter_keys.json file and make sure you have the correct keys.\")"
   ]
  },
  {
   "cell_type": "markdown",
   "metadata": {},
   "source": [
    "Now that you have been authenticated to use the Twitter API, it is time to get acquainted with the Twitter API.\n",
    "\n",
    "Using the <a href=\"http://tweepy.readthedocs.io/en/v3.5.0/\">documentation</a>, find Twitter's @jack 200 most-recent tweets in the cell below.\n",
    "\n",
    "**Hint: Look for a method to return the user timeline under 'API Reference'. http://docs.tweepy.org/en/v3.5.0/api.html#timeline-methods**"
   ]
  },
  {
   "cell_type": "code",
   "execution_count": 5,
   "metadata": {
    "collapsed": true
   },
   "outputs": [],
   "source": [
    "tweets = api.user_timeline(screen_name=\"jack\", count=200)"
   ]
  },
  {
   "cell_type": "markdown",
   "metadata": {},
   "source": [
    "In the cell below, find what type of data type we found in the previous tweet."
   ]
  },
  {
   "cell_type": "code",
   "execution_count": 6,
   "metadata": {},
   "outputs": [
    {
     "data": {
      "text/plain": [
       "tweepy.models.ResultSet"
      ]
     },
     "execution_count": 6,
     "metadata": {},
     "output_type": "execute_result"
    }
   ],
   "source": [
    "type(tweets)"
   ]
  },
  {
   "cell_type": "markdown",
   "metadata": {},
   "source": [
    "The cell above should say we have a tweepy.models.ResultSet, which is a list of Status objects, or tweets. Confirm this in the cell below by indexing the first tweet and checking its type."
   ]
  },
  {
   "cell_type": "code",
   "execution_count": 7,
   "metadata": {},
   "outputs": [
    {
     "data": {
      "text/plain": [
       "tweepy.models.Status"
      ]
     },
     "execution_count": 7,
     "metadata": {},
     "output_type": "execute_result"
    }
   ],
   "source": [
    "first_tweet = tweets[0]\n",
    "type(first_tweet)"
   ]
  },
  {
   "cell_type": "markdown",
   "metadata": {},
   "source": [
    "RESTful APIs often send data in JSON format, the same format as our keys file. Using the '_json' attribute, convert the first tweet into a dictionary in the cell below."
   ]
  },
  {
   "cell_type": "code",
   "execution_count": 8,
   "metadata": {},
   "outputs": [
    {
     "data": {
      "text/plain": [
       "{'contributors': None,\n",
       " 'coordinates': None,\n",
       " 'created_at': 'Sun Jul 01 02:03:58 +0000 2018',\n",
       " 'entities': {'hashtags': [],\n",
       "  'symbols': [],\n",
       "  'urls': [{'display_url': 'twitter.com/i/web/status/1…',\n",
       "    'expanded_url': 'https://twitter.com/i/web/status/1013241771076145152',\n",
       "    'indices': [117, 140],\n",
       "    'url': 'https://t.co/iVif5noEuE'}],\n",
       "  'user_mentions': []},\n",
       " 'favorite_count': 158,\n",
       " 'favorited': False,\n",
       " 'geo': None,\n",
       " 'id': 1013241771076145152,\n",
       " 'id_str': '1013241771076145152',\n",
       " 'in_reply_to_screen_name': 'jack',\n",
       " 'in_reply_to_status_id': 1013164812195360769,\n",
       " 'in_reply_to_status_id_str': '1013164812195360769',\n",
       " 'in_reply_to_user_id': 12,\n",
       " 'in_reply_to_user_id_str': '12',\n",
       " 'is_quote_status': False,\n",
       " 'lang': 'en',\n",
       " 'place': {'attributes': {},\n",
       "  'bounding_box': {'coordinates': [[[-122.514926, 37.708075],\n",
       "     [-122.357031, 37.708075],\n",
       "     [-122.357031, 37.833238],\n",
       "     [-122.514926, 37.833238]]],\n",
       "   'type': 'Polygon'},\n",
       "  'contained_within': [],\n",
       "  'country': 'United States',\n",
       "  'country_code': 'US',\n",
       "  'full_name': 'San Francisco, CA',\n",
       "  'id': '5a110d312052166f',\n",
       "  'name': 'San Francisco',\n",
       "  'place_type': 'city',\n",
       "  'url': 'https://api.twitter.com/1.1/geo/id/5a110d312052166f.json'},\n",
       " 'possibly_sensitive': False,\n",
       " 'retweet_count': 26,\n",
       " 'retweeted': False,\n",
       " 'source': '<a href=\"http://twitter.com/download/iphone\" rel=\"nofollow\">Twitter for iPhone</a>',\n",
       " 'text': 'Finished! This is a really excellent read (thanks for the recommendation). Dense and practical. Going to take a lot… https://t.co/iVif5noEuE',\n",
       " 'truncated': True,\n",
       " 'user': {'contributors_enabled': False,\n",
       "  'created_at': 'Tue Mar 21 20:50:14 +0000 2006',\n",
       "  'default_profile': False,\n",
       "  'default_profile_image': False,\n",
       "  'description': '‽',\n",
       "  'entities': {'description': {'urls': []}},\n",
       "  'favourites_count': 21537,\n",
       "  'follow_request_sent': False,\n",
       "  'followers_count': 4214797,\n",
       "  'following': False,\n",
       "  'friends_count': 3569,\n",
       "  'geo_enabled': True,\n",
       "  'has_extended_profile': False,\n",
       "  'id': 12,\n",
       "  'id_str': '12',\n",
       "  'is_translation_enabled': False,\n",
       "  'is_translator': False,\n",
       "  'lang': 'en',\n",
       "  'listed_count': 27518,\n",
       "  'location': '',\n",
       "  'name': 'jack',\n",
       "  'notifications': False,\n",
       "  'profile_background_color': 'EBEBEB',\n",
       "  'profile_background_image_url': 'http://abs.twimg.com/images/themes/theme7/bg.gif',\n",
       "  'profile_background_image_url_https': 'https://abs.twimg.com/images/themes/theme7/bg.gif',\n",
       "  'profile_background_tile': False,\n",
       "  'profile_banner_url': 'https://pbs.twimg.com/profile_banners/12/1483046077',\n",
       "  'profile_image_url': 'http://pbs.twimg.com/profile_images/839863609345794048/mkpdB9Tf_normal.jpg',\n",
       "  'profile_image_url_https': 'https://pbs.twimg.com/profile_images/839863609345794048/mkpdB9Tf_normal.jpg',\n",
       "  'profile_link_color': '990000',\n",
       "  'profile_sidebar_border_color': 'DFDFDF',\n",
       "  'profile_sidebar_fill_color': 'F3F3F3',\n",
       "  'profile_text_color': '333333',\n",
       "  'profile_use_background_image': True,\n",
       "  'protected': False,\n",
       "  'screen_name': 'jack',\n",
       "  'statuses_count': 23938,\n",
       "  'time_zone': None,\n",
       "  'translator_type': 'regular',\n",
       "  'url': None,\n",
       "  'utc_offset': None,\n",
       "  'verified': True}}"
      ]
     },
     "execution_count": 8,
     "metadata": {},
     "output_type": "execute_result"
    }
   ],
   "source": [
    "first_tweet_dict = first_tweet._json\n",
    "first_tweet_dict"
   ]
  },
  {
   "cell_type": "markdown",
   "metadata": {},
   "source": [
    "Looking at the cell above, you should see that we are returned a nested dictionary. This represents the common JSON format, however, this in itself is not a JSON file. \n",
    "\n",
    "Explore the result and find where the tweet location is and under which keys. Use the cell below to print the first tweet's location.\n",
    "\n",
    "**Hint: Not all tweets have locations embedded. Find the first tweet's 'place' tag.**"
   ]
  },
  {
   "cell_type": "code",
   "execution_count": 9,
   "metadata": {},
   "outputs": [
    {
     "name": "stdout",
     "output_type": "stream",
     "text": [
      "This tweet was tweeted from: {'id': '5a110d312052166f', 'url': 'https://api.twitter.com/1.1/geo/id/5a110d312052166f.json', 'place_type': 'city', 'name': 'San Francisco', 'full_name': 'San Francisco, CA', 'country_code': 'US', 'country': 'United States', 'contained_within': [], 'bounding_box': {'type': 'Polygon', 'coordinates': [[[-122.514926, 37.708075], [-122.357031, 37.708075], [-122.357031, 37.833238], [-122.514926, 37.833238]]]}, 'attributes': {}}\n"
     ]
    }
   ],
   "source": [
    "first_tweet_location = first_tweet_dict['place']\n",
    "print('This tweet was tweeted from:', first_tweet_location)"
   ]
  },
  {
   "cell_type": "markdown",
   "metadata": {},
   "source": [
    "## Part 4: Tweet Locations\n",
    "\n",
    "In the cell below, find the locations for all tweets we obtained. \n",
    "\n",
    "Hint: Not all tweets are geo-tagged so figure out how to only append tweet locations to the list instead of those with no location."
   ]
  },
  {
   "cell_type": "code",
   "execution_count": 10,
   "metadata": {},
   "outputs": [
    {
     "data": {
      "text/plain": [
       "['San Francisco, CA',\n",
       " 'San Francisco, CA',\n",
       " 'San Francisco, CA',\n",
       " 'San Francisco, CA',\n",
       " 'San Francisco, CA',\n",
       " 'San Francisco, CA',\n",
       " 'San Francisco, CA',\n",
       " 'San Francisco, CA',\n",
       " 'San Francisco, CA',\n",
       " 'San Francisco, CA',\n",
       " 'San Francisco, CA',\n",
       " 'San Francisco, CA',\n",
       " 'San Francisco, CA',\n",
       " 'San Francisco, CA',\n",
       " 'San Francisco, CA',\n",
       " 'San Francisco, CA',\n",
       " 'San Francisco, CA',\n",
       " 'San Francisco, CA',\n",
       " 'San Francisco, CA',\n",
       " 'San Francisco, CA',\n",
       " 'San Francisco, CA',\n",
       " 'San Francisco, CA',\n",
       " 'San Francisco, CA',\n",
       " 'San Francisco, CA',\n",
       " 'San Francisco, CA',\n",
       " 'San Francisco, CA',\n",
       " 'San Francisco, CA',\n",
       " 'San Francisco, CA',\n",
       " 'South San Francisco, CA',\n",
       " 'Cuba',\n",
       " 'Cuba',\n",
       " 'Haiti',\n",
       " 'Cuba',\n",
       " 'Cuba']"
      ]
     },
     "execution_count": 10,
     "metadata": {},
     "output_type": "execute_result"
    }
   ],
   "source": [
    "locations = []\n",
    "tweets_with_location = []\n",
    "for tweet in tweets:\n",
    "    current_tweet = tweet._json['place']\n",
    "    if current_tweet is not None:\n",
    "        tweets_with_location.append(current_tweet)\n",
    "        locations.append(current_tweet['full_name'])\n",
    "locations"
   ]
  },
  {
   "cell_type": "markdown",
   "metadata": {},
   "source": [
    "## Part 5a: Installing \n",
    "\n",
    "We will be using the geoplotlib library to visualize tweet locations. Since geoplotlib requires two other libraries, numpy and pyglet, we will have to install those too using the following 3, separate, commands in your terminal:\n",
    "\n",
    "*pip install numpy <br>\n",
    "pip install pyglet <br>\n",
    "pip install geoplotlib <br>*\n",
    "\n",
    "Once done, run the cell below to import tweepy and all other necessary Python modules."
   ]
  },
  {
   "cell_type": "code",
   "execution_count": 11,
   "metadata": {
    "collapsed": true
   },
   "outputs": [],
   "source": [
    "import geoplotlib"
   ]
  },
  {
   "cell_type": "markdown",
   "metadata": {},
   "source": [
    "## Part 5: Tweet Location Visualization\n",
    "\n",
    "Now that we have stored the location of the user's tweets, it is time to create a visualization.\n",
    "\n",
    "For each tweet with a location, twitter stores 4 pairs of latitudes and longitudes for each corner of the bounding box. For each tweet, store the 1st pair from each bounding box in an array named 'coords'.\n"
   ]
  },
  {
   "cell_type": "code",
   "execution_count": 12,
   "metadata": {
    "collapsed": true
   },
   "outputs": [],
   "source": [
    "coords = []\n",
    "for tweet in tweets_with_location:\n",
    "    coords.append(tweet['bounding_box']['coordinates'][0][0])"
   ]
  },
  {
   "cell_type": "markdown",
   "metadata": {
    "collapsed": true
   },
   "source": [
    "geoplotlib has a utils.DataAccessObject that takes in a dictionary or pandas dataframe to create a DataAccessObject. This is the data type that the library uses to create its maps.\n",
    "\n",
    "Create a dictionary with 3 keys: latitude, longitude, and name of the city. For each key the value should be a list with the corresponding values, you should already have the necessary values in previously assigned arrays.\n",
    "\n",
    "Once done, use the utils.DataAccessObject method to create the DataAccessObject and createa a dot density map with the .dot method.\n",
    "\n",
    "**Hint: After using the .dot method to create a dot density map, you must call geoplotlib.show() to open up a window with the map.**"
   ]
  },
  {
   "cell_type": "code",
   "execution_count": 14,
   "metadata": {},
   "outputs": [
    {
     "name": "stderr",
     "output_type": "stream",
     "text": [
      "Traceback (most recent call last):\n",
      "  File \"/Users/carlosortega/anaconda/lib/python3.6/site-packages/geoplotlib/__init__.py\", line 32, in _runapp\n",
      "    app.start()\n",
      "  File \"/Users/carlosortega/anaconda/lib/python3.6/site-packages/geoplotlib/core.py\", line 369, in start\n",
      "    pyglet.app.run()\n",
      "  File \"/Users/carlosortega/anaconda/lib/python3.6/site-packages/pyglet/app/__init__.py\", line 138, in run\n",
      "    event_loop.run()\n",
      "  File \"/Users/carlosortega/anaconda/lib/python3.6/site-packages/pyglet/app/base.py\", line 142, in run\n",
      "    self._run()\n",
      "  File \"/Users/carlosortega/anaconda/lib/python3.6/site-packages/pyglet/app/base.py\", line 154, in _run\n",
      "    timeout = self.idle()\n",
      "  File \"/Users/carlosortega/anaconda/lib/python3.6/site-packages/pyglet/app/base.py\", line 281, in idle\n",
      "    window.dispatch_event('on_draw')\n",
      "  File \"/Users/carlosortega/anaconda/lib/python3.6/site-packages/pyglet/window/__init__.py\", line 1232, in dispatch_event\n",
      "    if EventDispatcher.dispatch_event(self, *args) != False:\n",
      "  File \"/Users/carlosortega/anaconda/lib/python3.6/site-packages/pyglet/event.py\", line 367, in dispatch_event\n",
      "    if getattr(self, event_type)(*args):\n",
      "  File \"/Users/carlosortega/anaconda/lib/python3.6/site-packages/geoplotlib/core.py\", line 257, in on_draw\n",
      "    anchor_x='right', anchor_y='top')\n",
      "  File \"/Users/carlosortega/anaconda/lib/python3.6/site-packages/pyglet/text/__init__.py\", line 461, in __init__\n",
      "    'align': align,\n",
      "  File \"/Users/carlosortega/anaconda/lib/python3.6/site-packages/pyglet/text/document.py\", line 603, in set_style\n",
      "    0, len(self.text), attributes)\n",
      "  File \"/Users/carlosortega/anaconda/lib/python3.6/site-packages/pyglet/text/document.py\", line 511, in set_style\n",
      "    self.dispatch_event('on_style_text', start, end, attributes)\n",
      "  File \"/Users/carlosortega/anaconda/lib/python3.6/site-packages/pyglet/event.py\", line 357, in dispatch_event\n",
      "    if handler(*args):\n",
      "  File \"/Users/carlosortega/anaconda/lib/python3.6/site-packages/pyglet/text/layout.py\", line 1047, in on_style_text\n",
      "    self._init_document()\n",
      "  File \"/Users/carlosortega/anaconda/lib/python3.6/site-packages/pyglet/text/layout.py\", line 1020, in _init_document\n",
      "    self._update()\n",
      "  File \"/Users/carlosortega/anaconda/lib/python3.6/site-packages/pyglet/text/layout.py\", line 956, in _update\n",
      "    lines = self._get_lines()\n",
      "  File \"/Users/carlosortega/anaconda/lib/python3.6/site-packages/pyglet/text/layout.py\", line 932, in _get_lines\n",
      "    glyphs = self._get_glyphs()\n",
      "  File \"/Users/carlosortega/anaconda/lib/python3.6/site-packages/pyglet/text/layout.py\", line 1059, in _get_glyphs\n",
      "    glyphs.extend(font.get_glyphs(text[start:end]))\n",
      "  File \"/Users/carlosortega/anaconda/lib/python3.6/site-packages/pyglet/font/base.py\", line 377, in get_glyphs\n",
      "    for c in get_grapheme_clusters(str(text)):\n",
      "  File \"/Users/carlosortega/anaconda/lib/python3.6/site-packages/pyglet/font/base.py\", line 132, in get_grapheme_clusters\n",
      "    if cluster and _grapheme_break(left, right):\n",
      "  File \"/Users/carlosortega/anaconda/lib/python3.6/site-packages/pyglet/font/base.py\", line 100, in _grapheme_break\n",
      "    if _extend(right, right_cc):\n",
      "  File \"/Users/carlosortega/anaconda/lib/python3.6/site-packages/pyglet/font/base.py\", line 70, in <lambda>\n",
      "    c in list(map(chr, [0xe30, 0xe32, 0xe33, 0xe45, 0xeb0, 0xeb2, 0xeb3]))\n",
      "KeyboardInterrupt\n"
     ]
    }
   ],
   "source": [
    "lat, lon, name = [], [], locations\n",
    "lat = [coordinate[1] for coordinate in coords]\n",
    "lon = [coordinate[0] for coordinate in coords]\n",
    "loc = {'lat': lat, 'lon': lon, 'name': name}\n",
    "geo_loc = geoplotlib.utils.DataAccessObject(loc)\n",
    "geoplotlib.dot(geo_loc)\n",
    "geoplotlib.show()"
   ]
  },
  {
   "cell_type": "markdown",
   "metadata": {
    "collapsed": true
   },
   "source": [
    "## Part 6: Conclusion\n",
    "\n",
    "This assignment will have different results depending on the Twitter user you inspect. Some users will have no tweets with embedded locations, and others may only tweet from a single city.\n",
    "\n",
    "Examining locations in tweets can give an estimate of where a user lives or a user's up-to-date whereabouts."
   ]
  },
  {
   "cell_type": "code",
   "execution_count": null,
   "metadata": {
    "collapsed": true
   },
   "outputs": [],
   "source": []
  },
  {
   "cell_type": "code",
   "execution_count": null,
   "metadata": {
    "collapsed": true
   },
   "outputs": [],
   "source": []
  }
 ],
 "metadata": {
  "kernelspec": {
   "display_name": "Python 3",
   "language": "python",
   "name": "python3"
  },
  "language_info": {
   "codemirror_mode": {
    "name": "ipython",
    "version": 3
   },
   "file_extension": ".py",
   "mimetype": "text/x-python",
   "name": "python",
   "nbconvert_exporter": "python",
   "pygments_lexer": "ipython3",
   "version": "3.6.1"
  }
 },
 "nbformat": 4,
 "nbformat_minor": 2
}
