{
 "cells": [
  {
   "cell_type": "markdown",
   "metadata": {},
   "source": [
    "# Geotagged Tweet Mapping\n",
    "#### Welcome to the Geotagged Tweet Mapping project for *Teaching Privacy*.\n",
    "\n",
    "**This project is due on 00/00/00.**\n",
    "\n",
    "This project will rely on several Python libraries, some of which you may have not used before, and will require you have a Twitter account. Thus, it is highly recommended you do this in pairs or groups. \n",
    "\n",
    "If students have not worked with for loops or dictionaries before, they may require extra assistance during those sections."
   ]
  },
  {
   "cell_type": "markdown",
   "metadata": {},
   "source": [
    "## Part 1a: Installing Tweepy\n",
    "\n",
    "\n",
    "*pip install tweepy*\n",
    "\n",
    "Check the readme file on https://github.com/tweepy/tweepy for the most up to date installation instructions. \n",
    "\n",
    "Run the cell below to import the module."
   ]
  },
  {
   "cell_type": "code",
   "execution_count": null,
   "metadata": {},
   "outputs": [],
   "source": [
    "import tweepy\n",
    "from tweepy import TweepError\n",
    "import json"
   ]
  },
  {
   "cell_type": "markdown",
   "metadata": {},
   "source": [
    "## Part 1: Create Twitter App\n",
    "\n",
    "\n",
    "1. Go to https://apps.twitter.com and click 'Sign In'. If you do not have a Twitter account or do not want to use your current Twitter account, you will have to create one.\n",
    "2. Click on 'Create New App'.\n",
    "3. Give your app a Name, Description and a Website. For the website you are allowed to put a placeholder such as https://www.google.com."
   ]
  },
  {
   "cell_type": "markdown",
   "metadata": {},
   "source": [
    "## Part 2: Obtain Twitter Tokens \n",
    "\n",
    "When using APIs that require tokens and keys for authentication, it is common practice to have your keys in a separate JSON file as to protect yourself and the application's users. Your file should not be posted on public repositories, and you should **never** share your keys. \n",
    "\n",
    "\n",
    "Create a new text file named **twitter_keys.json** with the following format:\n",
    "\n",
    "{ <br>\n",
    "   \"api_key\":\"\", <br>\n",
    "   \"api_secret\":  \"\", <br>\n",
    "   \"access_token\": \"\", <br>\n",
    "   \"access_token_secret\": \"\" <br>\n",
    "}\n",
    "<br>\n",
    "1. Go to your app you created in the previous step and head on to the 'Keys and Access Tokens' tab. \n",
    "2. Copy and paste the tokens and keys for the corresponding variables in your JSON file. <br>\n",
    "    a. You will have to click 'Create my access token' the first time you create your app. <br>\n",
    "    b. Make sure you copy and paste the tokens inside the quotation marks.\n",
    "3. Run the cell below to assign your keys to the keys variable."
   ]
  },
  {
   "cell_type": "code",
   "execution_count": null,
   "metadata": {},
   "outputs": [],
   "source": [
    "keys_file = 'twitter_keys.json'\n",
    "with open(keys_file) as file:\n",
    "    keys = json.load(file)"
   ]
  },
  {
   "cell_type": "markdown",
   "metadata": {},
   "source": [
    "## Part 3: Using the Twitter API with Tweepy\n",
    "\n",
    "Run the cell below to check if you have correctly set up the keys."
   ]
  },
  {
   "cell_type": "code",
   "execution_count": null,
   "metadata": {},
   "outputs": [],
   "source": [
    "try:\n",
    "    auth = tweepy.OAuthHandler(keys[\"api_key\"], keys[\"api_secret\"])\n",
    "    auth.set_access_token(keys[\"access_token\"], keys[\"access_token_secret\"])\n",
    "    api = tweepy.API(auth)\n",
    "    print(\"You have correctly set up your API keys. Your username is:\", api.auth.get_username())\n",
    "except TweepError as e:\n",
    "    print(\"Tweepy found an error. Revisit your twitter_keys.json file and make sure you have the correct keys.\")"
   ]
  },
  {
   "cell_type": "markdown",
   "metadata": {},
   "source": [
    "Now that you have been authenticated to use the Twitter API, it is time to get acquainted with the Twitter API.\n",
    "\n",
    "Using the <a href=\"http://tweepy.readthedocs.io/en/v3.5.0/\">documentation</a>, find Twitter's @jack 200 most-recent tweets in the cell below.\n",
    "\n",
    "**Hint: Look for a method to return the user timeline under 'API Reference'. http://docs.tweepy.org/en/v3.5.0/api.html#timeline-methods**"
   ]
  },
  {
   "cell_type": "code",
   "execution_count": null,
   "metadata": {},
   "outputs": [],
   "source": [
    "tweets = ..."
   ]
  },
  {
   "cell_type": "markdown",
   "metadata": {},
   "source": [
    "In the cell below, find what type of data type we found in the previous tweet."
   ]
  },
  {
   "cell_type": "code",
   "execution_count": null,
   "metadata": {},
   "outputs": [],
   "source": []
  },
  {
   "cell_type": "markdown",
   "metadata": {},
   "source": [
    "The cell above should say we have a tweepy.models.ResultSet, which is a list of Status objects, or tweets. Confirm this in the cell below by indexing the first tweet and checking its type."
   ]
  },
  {
   "cell_type": "code",
   "execution_count": null,
   "metadata": {},
   "outputs": [],
   "source": []
  },
  {
   "cell_type": "markdown",
   "metadata": {},
   "source": [
    "RESTful APIs typically send data in JSON format, the same format as our keys file. Using the '._json' attribute, convert the first tweet into a dictionary in the cell below. \n",
    "\n",
    "**Hint: Read this stackoverflow post for more information about the json attribute https://stackoverflow.com/questions/27900451/convert-tweepy-status-object-into-json ** <br>\n",
    "**Hint 2: If you have not used dictionaries before, you can see this video on the subject. https://stackoverflow.com/questions/27900451/convert-tweepy-status-object-into-json**"
   ]
  },
  {
   "cell_type": "code",
   "execution_count": null,
   "metadata": {},
   "outputs": [],
   "source": [
    "first_tweet_dict = ...\n",
    "first_tweet_dict"
   ]
  },
  {
   "cell_type": "markdown",
   "metadata": {},
   "source": [
    "Looking at the cell above, you should see that we are returned a nested dictionary. This represents the common JSON format, however, this in itself is not a JSON file. \n",
    "\n",
    "Explore the result and find where the tweet location is and under which keys. Use the cell below to print the first tweet's location.\n",
    "\n",
    "**Note: Not all tweets have locations embedded. Tweets without location will have a None value in their place.**\n",
    "**Hint: Find the first tweet's 'place' tag.**"
   ]
  },
  {
   "cell_type": "code",
   "execution_count": null,
   "metadata": {},
   "outputs": [],
   "source": [
    "first_tweet_location = ...\n",
    "print('This tweet was tweeted from:', first_tweet_location)"
   ]
  },
  {
   "cell_type": "markdown",
   "metadata": {},
   "source": [
    "## Part 4: Tweet Locations\n",
    "\n",
    "In the cell below, find the locations for all tweets we obtained. \n",
    "\n",
    "Hint: Not all tweets are geo-tagged so figure out how to only append tweet locations to the list instead of those with no location."
   ]
  },
  {
   "cell_type": "code",
   "execution_count": null,
   "metadata": {},
   "outputs": [],
   "source": [
    "locations = ...\n",
    "\n",
    "locations"
   ]
  },
  {
   "cell_type": "markdown",
   "metadata": {},
   "source": [
    "## Part 5a: Installing \n",
    "\n",
    "We will be using the geoplotlib library to visualize tweet locations. Since geoplotlib requires two other libraries, numpy and pyglet, we will have to install those too using the following 3, separate, commands in your terminal:\n",
    "\n",
    "*pip install numpy <br>\n",
    "pip install pyglet <br>\n",
    "pip install geoplotlib <br>*\n",
    "\n",
    "Once done, run the cell below to import tweepy and all other necessary Python modules."
   ]
  },
  {
   "cell_type": "code",
   "execution_count": null,
   "metadata": {},
   "outputs": [],
   "source": [
    "import geoplotlib"
   ]
  },
  {
   "cell_type": "markdown",
   "metadata": {},
   "source": [
    "## Part 5: Tweet Location Visualization\n",
    "\n",
    "Now that we have stored the location of the user's tweets, it is time to create a visualization.\n",
    "\n",
    "For each tweet with a location, twitter stores 4 pairs of latitudes and longitudes for each corner of the bounding box. For each tweet, store the 1st pair from each bounding box in an array named 'coords'.\n"
   ]
  },
  {
   "cell_type": "code",
   "execution_count": null,
   "metadata": {},
   "outputs": [],
   "source": [
    "coords = ..."
   ]
  },
  {
   "cell_type": "markdown",
   "metadata": {
    "collapsed": true
   },
   "source": [
    "geoplotlib has a utils.DataAccessObject that takes in a dictionary or pandas dataframe to create a DataAccessObject. This is the data type that the library uses to create its maps.\n",
    "\n",
    "Create a dictionary with 3 keys: latitude, longitude, and name of the city, in that order. For each key the value should be a list with the corresponding values, you should already have the necessary values in previously assigned arrays.\n",
    "\n",
    "Once done, use the utils.DataAccessObject method to create the DataAccessObject and createa a dot density map with the .dot method.\n",
    "\n",
    "**Hint 1: After using the .dot method to create a dot density map, you must call geoplotlib.show() to open up a window with the map.**"
   ]
  },
  {
   "cell_type": "code",
   "execution_count": null,
   "metadata": {},
   "outputs": [],
   "source": [
    "lat, lon, name = [], [], locations\n",
    "lat = ...\n",
    "lon = ...\n",
    "loc = {'lat': ..., 'lon': ..., 'name': ...}\n",
    "geo_loc = geoplotlib.utils.DataAccessObject(loc)\n",
    "geoplotlib.dot(geo_loc)\n",
    "geoplotlib.show()"
   ]
  },
  {
   "cell_type": "markdown",
   "metadata": {
    "collapsed": true
   },
   "source": [
    "## Part 6: Conclusion\n",
    "\n",
    "This assignment will have different results depending on the Twitter user you inspect. Some users will have no tweets with embedded locations, and others may only tweet from a single city.\n",
    "\n",
    "Examining locations in tweets can give an estimate of where a user lives or a user's up-to-date whereabouts."
   ]
  }
 ],
 "metadata": {
  "kernelspec": {
   "display_name": "Python 3 (ipykernel)",
   "language": "python",
   "name": "python3"
  },
  "language_info": {
   "codemirror_mode": {
    "name": "ipython",
    "version": 3
   },
   "file_extension": ".py",
   "mimetype": "text/x-python",
   "name": "python",
   "nbconvert_exporter": "python",
   "pygments_lexer": "ipython3",
   "version": "3.9.7"
  }
 },
 "nbformat": 4,
 "nbformat_minor": 2
}
