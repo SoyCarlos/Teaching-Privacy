{
 "cells": [
  {
   "cell_type": "markdown",
   "metadata": {},
   "source": [
    "# Inferences from Aggregated Data\n",
    "\n",
    "It is nearly common knowledge that companies and governments buy and sell user data. However, it is not as well known the magnitude to which to these groups collect data. Pulizter prize winning journalist, Andrew Lewis, tweeted in 2010, \"If you are not paying for it, you're not the customer; you're the product being sold.\"\n",
    "\n",
    "Users divulge personal data when signing up for accounts, but they can also be giving information away without being conscious of it. Companies can identify or partially identify users through their device fingerprints, with no need for an account being created or cookies being used. Device fingerprints are comprised of the device being used, its operating system, the browser, the browser version, and brower plugins among other things.\n",
    "\n",
    "In this project, you will aggregate data from Kai Peroc from Tumblr and Twitter."
   ]
  },
  {
   "cell_type": "markdown",
   "metadata": {},
   "source": [
    "## Part 1: Setting up API\n",
    "\n",
    "### Tumblr API\n",
    "\n",
    "To use the Tumblr API, we will be using pytumblr. To install it run the following in your terminal: <br>\n",
    "sudo pip install oauth oauth2 pytumblr\n",
    "\n",
    "Now we need to get our keys.\n",
    "1. Go to https://www.tumblr.com/oauth/apps. Create a tumblr account if you do not have one already or create a new one if you do not want to use the one you already have.\n",
    "2. Click on 'Register application' and fill out the required fields. For the callback URL you can use https://www.google.com\n",
    "3. Under your application, you should see your Oauth consumer key and your secret key. Go to https://api.tumblr.com/console and copy and paste these keys into the appropriate fields to get your oauth token and oauth secret key. <br> <br>\n",
    "When using APIs that require tokens and keys for authentication, it is common practice to have your keys in a separate JSON file as to protect yourself and the application's users. Your file should not be posted on public repositories, and you should **never** share your keys. <br> <br>\n",
    "4. Create a **tumblr_keys.json** file in the same format as below with your keys in the empty quotation marks: <br> <br>\n",
    "{ <br>\n",
    "   \"consumer_key\": \"\" <br>\n",
    "   \"consumer_secret\":  \"\", <br>\n",
    "   \"oauth_token\": \"\", <br>\n",
    "   \"oauth_secret\": \"\" <br>\n",
    "}\n",
    "\n",
    "### Twitter API\n",
    "\n",
    "This project will have you use Tweepy, a Python library to access the Twitter API. The easiest way to install is to run the following in your terminal:\n",
    "\n",
    "*pip install tweepy*\n",
    "\n",
    "If this does not work check out the readme file on https://github.com/tweepy/tweepy for the most up to date installation instructions. \n",
    "\n",
    "1. Go to https://apps.twitter.com and click 'Sign In'. If you do not have a Twitter account or do not want to use your current Twitter account, you will have to create one.\n",
    "2. Click on 'Create New App'.\n",
    "3. Give your app a Name, Description and a Website. For the website you are allowed to put a placeholder such as https://www.google.com.\n",
    "\n",
    "Create a new text file named **twitter_keys.json** with the following format:\n",
    "\n",
    "{ <br>\n",
    "   \"consumer_key\":\"\", <br>\n",
    "   \"consumer_secret\":  \"\", <br>\n",
    "   \"access_token\": \"\", <br>\n",
    "   \"access_token_secret\": \"\" <br>\n",
    "}\n",
    "<br>\n",
    "1. Go to your app you created in the previous step and head on to the 'Keys and Access Tokens' tab. \n",
    "2. Copy and paste the tokens and keys for the corresponding variables in your JSON file. <br>\n",
    "    a. You will have to click 'Create my access token' the first time you create your app. <br>\n",
    "    b. Make sure you copy and paste the tokens inside the quotation marks.\n",
    "3. Run the cell below to assign your keys to the appropriate variable."
   ]
  },
  {
   "cell_type": "code",
   "execution_count": 10,
   "metadata": {
    "collapsed": true
   },
   "outputs": [],
   "source": [
    "import pytumblr\n",
    "import tweepy\n",
    "from tweepy import TweepError\n",
    "import json"
   ]
  },
  {
   "cell_type": "code",
   "execution_count": 9,
   "metadata": {
    "collapsed": true
   },
   "outputs": [],
   "source": [
    "keys_file = 'keys.json'\n",
    "with open(keys_file) as file:\n",
    "    keys = json.load(file)"
   ]
  },
  {
   "cell_type": "code",
   "execution_count": 2,
   "metadata": {
    "collapsed": true
   },
   "outputs": [],
   "source": [
    "#API CALLS"
   ]
  },
  {
   "cell_type": "markdown",
   "metadata": {},
   "source": [
    "## Part 2: Obtaining Data\n",
    "\n",
    "Lorem ipsum"
   ]
  },
  {
   "cell_type": "code",
   "execution_count": 3,
   "metadata": {
    "collapsed": true
   },
   "outputs": [],
   "source": [
    "#Social Media Site 1"
   ]
  },
  {
   "cell_type": "code",
   "execution_count": 4,
   "metadata": {
    "collapsed": true
   },
   "outputs": [],
   "source": [
    "#Social Media Site 2"
   ]
  },
  {
   "cell_type": "code",
   "execution_count": 6,
   "metadata": {},
   "outputs": [],
   "source": [
    "#Aggregate Data"
   ]
  },
  {
   "cell_type": "markdown",
   "metadata": {},
   "source": [
    "## Part 3: Aggregate Data\n",
    "\n",
    "Lorem ipsum"
   ]
  },
  {
   "cell_type": "code",
   "execution_count": 7,
   "metadata": {
    "collapsed": true
   },
   "outputs": [],
   "source": [
    "#Aggregate Data"
   ]
  },
  {
   "cell_type": "markdown",
   "metadata": {},
   "source": [
    "## Part 4: New Context\n",
    "\n",
    "Now that you have aggregated this user's data from multiple different services, what inferences can you make of them, their interests, affiliations, and personality? What has changed with this new context? How can you, or a company, use this bigger picture of the user?"
   ]
  },
  {
   "cell_type": "code",
   "execution_count": 8,
   "metadata": {
    "collapsed": true
   },
   "outputs": [],
   "source": [
    "#Student Answer"
   ]
  },
  {
   "cell_type": "markdown",
   "metadata": {},
   "source": [
    "## Part 5: Conclusion\n",
    "\n",
    "lorem ipsum"
   ]
  },
  {
   "cell_type": "code",
   "execution_count": null,
   "metadata": {
    "collapsed": true
   },
   "outputs": [],
   "source": []
  }
 ],
 "metadata": {
  "kernelspec": {
   "display_name": "Python 3",
   "language": "python",
   "name": "python3"
  },
  "language_info": {
   "codemirror_mode": {
    "name": "ipython",
    "version": 3
   },
   "file_extension": ".py",
   "mimetype": "text/x-python",
   "name": "python",
   "nbconvert_exporter": "python",
   "pygments_lexer": "ipython3",
   "version": "3.6.1"
  }
 },
 "nbformat": 4,
 "nbformat_minor": 2
}
